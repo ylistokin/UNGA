{
  "nbformat": 4,
  "nbformat_minor": 0,
  "metadata": {
    "colab": {
      "provenance": []
    },
    "kernelspec": {
      "name": "python3",
      "display_name": "Python 3"
    },
    "language_info": {
      "name": "python"
    }
  },
  "cells": [
    {
      "cell_type": "markdown",
      "source": [
        "# This file runs GPT 4o mini on the full text of each UN Resolution from the Mesquita  database for the years 1981 to 1993. It takes in the resolution data (one with the text of the resolution, (\"/content/gdrive/MyDrive/UNGA/Mesquita.csv\"). The file then runs GPT on the text and stores the resulting data as '/content/gdrive/MyDrive/UNGA/Mesquita_outcomes.csv'\n",
        "\n",
        "The file then checks the Mesquita data to see how many observations have shared UNGA numbers, to investigate multiple counting. It does the same investigation for the Voelsen data as well.\n",
        "\n"
      ],
      "metadata": {
        "id": "XhgQo70FeuoG"
      }
    },
    {
      "cell_type": "code",
      "execution_count": null,
      "metadata": {
        "colab": {
          "base_uri": "https://localhost:8080/"
        },
        "collapsed": true,
        "id": "M0v93woxHUtD",
        "outputId": "59daba3b-26f0-403b-8f5c-d70ec993dea8"
      },
      "outputs": [
        {
          "output_type": "stream",
          "name": "stdout",
          "text": [
            "Requirement already satisfied: langchain in /usr/local/lib/python3.10/dist-packages (0.3.7)\n",
            "Requirement already satisfied: langchain_openai in /usr/local/lib/python3.10/dist-packages (0.2.11)\n",
            "Requirement already satisfied: PyYAML>=5.3 in /usr/local/lib/python3.10/dist-packages (from langchain) (6.0.2)\n",
            "Requirement already satisfied: SQLAlchemy<3,>=1.4 in /usr/local/lib/python3.10/dist-packages (from langchain) (2.0.36)\n",
            "Requirement already satisfied: aiohttp<4.0.0,>=3.8.3 in /usr/local/lib/python3.10/dist-packages (from langchain) (3.11.2)\n",
            "Requirement already satisfied: async-timeout<5.0.0,>=4.0.0 in /usr/local/lib/python3.10/dist-packages (from langchain) (4.0.3)\n",
            "Requirement already satisfied: langchain-core<0.4.0,>=0.3.15 in /usr/local/lib/python3.10/dist-packages (from langchain) (0.3.21)\n",
            "Requirement already satisfied: langchain-text-splitters<0.4.0,>=0.3.0 in /usr/local/lib/python3.10/dist-packages (from langchain) (0.3.2)\n",
            "Requirement already satisfied: langsmith<0.2.0,>=0.1.17 in /usr/local/lib/python3.10/dist-packages (from langchain) (0.1.143)\n",
            "Requirement already satisfied: numpy<2,>=1 in /usr/local/lib/python3.10/dist-packages (from langchain) (1.26.4)\n",
            "Requirement already satisfied: pydantic<3.0.0,>=2.7.4 in /usr/local/lib/python3.10/dist-packages (from langchain) (2.9.2)\n",
            "Requirement already satisfied: requests<3,>=2 in /usr/local/lib/python3.10/dist-packages (from langchain) (2.32.3)\n",
            "Requirement already satisfied: tenacity!=8.4.0,<10,>=8.1.0 in /usr/local/lib/python3.10/dist-packages (from langchain) (9.0.0)\n",
            "Requirement already satisfied: openai<2.0.0,>=1.54.0 in /usr/local/lib/python3.10/dist-packages (from langchain_openai) (1.54.4)\n",
            "Requirement already satisfied: tiktoken<1,>=0.7 in /usr/local/lib/python3.10/dist-packages (from langchain_openai) (0.8.0)\n",
            "Requirement already satisfied: aiohappyeyeballs>=2.3.0 in /usr/local/lib/python3.10/dist-packages (from aiohttp<4.0.0,>=3.8.3->langchain) (2.4.3)\n",
            "Requirement already satisfied: aiosignal>=1.1.2 in /usr/local/lib/python3.10/dist-packages (from aiohttp<4.0.0,>=3.8.3->langchain) (1.3.1)\n",
            "Requirement already satisfied: attrs>=17.3.0 in /usr/local/lib/python3.10/dist-packages (from aiohttp<4.0.0,>=3.8.3->langchain) (24.2.0)\n",
            "Requirement already satisfied: frozenlist>=1.1.1 in /usr/local/lib/python3.10/dist-packages (from aiohttp<4.0.0,>=3.8.3->langchain) (1.5.0)\n",
            "Requirement already satisfied: multidict<7.0,>=4.5 in /usr/local/lib/python3.10/dist-packages (from aiohttp<4.0.0,>=3.8.3->langchain) (6.1.0)\n",
            "Requirement already satisfied: propcache>=0.2.0 in /usr/local/lib/python3.10/dist-packages (from aiohttp<4.0.0,>=3.8.3->langchain) (0.2.0)\n",
            "Requirement already satisfied: yarl<2.0,>=1.17.0 in /usr/local/lib/python3.10/dist-packages (from aiohttp<4.0.0,>=3.8.3->langchain) (1.17.2)\n",
            "Requirement already satisfied: jsonpatch<2.0,>=1.33 in /usr/local/lib/python3.10/dist-packages (from langchain-core<0.4.0,>=0.3.15->langchain) (1.33)\n",
            "Requirement already satisfied: packaging<25,>=23.2 in /usr/local/lib/python3.10/dist-packages (from langchain-core<0.4.0,>=0.3.15->langchain) (24.2)\n",
            "Requirement already satisfied: typing-extensions>=4.7 in /usr/local/lib/python3.10/dist-packages (from langchain-core<0.4.0,>=0.3.15->langchain) (4.12.2)\n",
            "Requirement already satisfied: httpx<1,>=0.23.0 in /usr/local/lib/python3.10/dist-packages (from langsmith<0.2.0,>=0.1.17->langchain) (0.27.2)\n",
            "Requirement already satisfied: orjson<4.0.0,>=3.9.14 in /usr/local/lib/python3.10/dist-packages (from langsmith<0.2.0,>=0.1.17->langchain) (3.10.11)\n",
            "Requirement already satisfied: requests-toolbelt<2.0.0,>=1.0.0 in /usr/local/lib/python3.10/dist-packages (from langsmith<0.2.0,>=0.1.17->langchain) (1.0.0)\n",
            "Requirement already satisfied: anyio<5,>=3.5.0 in /usr/local/lib/python3.10/dist-packages (from openai<2.0.0,>=1.54.0->langchain_openai) (3.7.1)\n",
            "Requirement already satisfied: distro<2,>=1.7.0 in /usr/local/lib/python3.10/dist-packages (from openai<2.0.0,>=1.54.0->langchain_openai) (1.9.0)\n",
            "Requirement already satisfied: jiter<1,>=0.4.0 in /usr/local/lib/python3.10/dist-packages (from openai<2.0.0,>=1.54.0->langchain_openai) (0.7.1)\n",
            "Requirement already satisfied: sniffio in /usr/local/lib/python3.10/dist-packages (from openai<2.0.0,>=1.54.0->langchain_openai) (1.3.1)\n",
            "Requirement already satisfied: tqdm>4 in /usr/local/lib/python3.10/dist-packages (from openai<2.0.0,>=1.54.0->langchain_openai) (4.66.6)\n",
            "Requirement already satisfied: annotated-types>=0.6.0 in /usr/local/lib/python3.10/dist-packages (from pydantic<3.0.0,>=2.7.4->langchain) (0.7.0)\n",
            "Requirement already satisfied: pydantic-core==2.23.4 in /usr/local/lib/python3.10/dist-packages (from pydantic<3.0.0,>=2.7.4->langchain) (2.23.4)\n",
            "Requirement already satisfied: charset-normalizer<4,>=2 in /usr/local/lib/python3.10/dist-packages (from requests<3,>=2->langchain) (3.4.0)\n",
            "Requirement already satisfied: idna<4,>=2.5 in /usr/local/lib/python3.10/dist-packages (from requests<3,>=2->langchain) (3.10)\n",
            "Requirement already satisfied: urllib3<3,>=1.21.1 in /usr/local/lib/python3.10/dist-packages (from requests<3,>=2->langchain) (2.2.3)\n",
            "Requirement already satisfied: certifi>=2017.4.17 in /usr/local/lib/python3.10/dist-packages (from requests<3,>=2->langchain) (2024.8.30)\n",
            "Requirement already satisfied: greenlet!=0.4.17 in /usr/local/lib/python3.10/dist-packages (from SQLAlchemy<3,>=1.4->langchain) (3.1.1)\n",
            "Requirement already satisfied: regex>=2022.1.18 in /usr/local/lib/python3.10/dist-packages (from tiktoken<1,>=0.7->langchain_openai) (2024.9.11)\n",
            "Requirement already satisfied: exceptiongroup in /usr/local/lib/python3.10/dist-packages (from anyio<5,>=3.5.0->openai<2.0.0,>=1.54.0->langchain_openai) (1.2.2)\n",
            "Requirement already satisfied: httpcore==1.* in /usr/local/lib/python3.10/dist-packages (from httpx<1,>=0.23.0->langsmith<0.2.0,>=0.1.17->langchain) (1.0.7)\n",
            "Requirement already satisfied: h11<0.15,>=0.13 in /usr/local/lib/python3.10/dist-packages (from httpcore==1.*->httpx<1,>=0.23.0->langsmith<0.2.0,>=0.1.17->langchain) (0.14.0)\n",
            "Requirement already satisfied: jsonpointer>=1.9 in /usr/local/lib/python3.10/dist-packages (from jsonpatch<2.0,>=1.33->langchain-core<0.4.0,>=0.3.15->langchain) (3.0.0)\n"
          ]
        }
      ],
      "source": [
        "!pip install langchain langchain_openai"
      ]
    },
    {
      "cell_type": "code",
      "execution_count": null,
      "metadata": {
        "id": "k1L4lgI5oRyo",
        "colab": {
          "base_uri": "https://localhost:8080/"
        },
        "outputId": "0502a72d-c7d4-494c-909b-60c48540f940"
      },
      "outputs": [
        {
          "output_type": "stream",
          "name": "stdout",
          "text": [
            "Drive already mounted at /content/gdrive; to attempt to forcibly remount, call drive.mount(\"/content/gdrive\", force_remount=True).\n"
          ]
        }
      ],
      "source": [
        "import pandas as pd\n",
        "import numpy as np\n",
        "from tqdm import tqdm\n",
        "\n",
        "from google.colab import drive\n",
        "drive.mount(\"/content/gdrive\")\n"
      ]
    },
    {
      "cell_type": "code",
      "source": [
        "from langchain_openai import ChatOpenAI\n",
        "from langchain.prompts import ChatPromptTemplate\n",
        "from langchain_core.output_parsers import StrOutputParser\n",
        "from langchain.prompts import PromptTemplate\n",
        "from langchain.chains import LLMChain\n",
        "# from langchain.embeddings import OpenAIEmbeddings"
      ],
      "metadata": {
        "id": "AQq7wXEvH7_G"
      },
      "execution_count": null,
      "outputs": []
    },
    {
      "cell_type": "code",
      "source": [
        "#inputting dataframe from Mesquita,\n",
        "text_data = pd.read_csv(\"/content/gdrive/MyDrive/UNGA/Mesquita.csv\")\n"
      ],
      "metadata": {
        "id": "dTiQOBccar7P",
        "collapsed": true
      },
      "execution_count": null,
      "outputs": []
    },
    {
      "cell_type": "code",
      "source": [
        "#text_data['session_reg'].unique()\n",
        "#text_data['res_id2'].head(50)\n",
        "text_data['session_reg'].unique()"
      ],
      "metadata": {
        "colab": {
          "base_uri": "https://localhost:8080/"
        },
        "collapsed": true,
        "id": "rAmkkQdVRARW",
        "outputId": "24005144-44cc-4658-8b85-54f838b19b25"
      },
      "execution_count": null,
      "outputs": [
        {
          "output_type": "execute_result",
          "data": {
            "text/plain": [
              "array([nan,  1.,  2.,  3.,  4.,  5.,  6.,  7.,  8.,  9., 10., 11., 12.,\n",
              "       13., 14., 15., 16., 17., 18., 19., 20., 21., 22., 23., 24., 25.,\n",
              "       26., 27., 28., 29., 30., 31., 32., 33., 34., 35., 36., 37., 38.,\n",
              "       39., 40., 41., 42., 43., 44., 45., 46., 47., 48., 49., 50., 51.,\n",
              "       52., 53., 54., 55., 56., 57., 58., 59., 60., 61., 62., 63., 64.,\n",
              "       65., 66., 67., 68., 69., 70., 71., 72., 73.])"
            ]
          },
          "metadata": {},
          "execution_count": 36
        }
      ]
    },
    {
      "cell_type": "code",
      "source": [
        "# Filter the DataFrame to keep only rows from UN Sessions between 36 (1981) and 48 (1993) inclusive\n",
        "filtered_df = text_data[(text_data['session_reg'] >= 36) & (text_data['session_reg'] <= 48)]\n",
        "print(filtered_df.shape)\n",
        "print(text_data.shape)"
      ],
      "metadata": {
        "colab": {
          "base_uri": "https://localhost:8080/"
        },
        "id": "ddULhEcBz99V",
        "outputId": "a6fbe472-d84c-4870-aa2b-08c5f3611a11"
      },
      "execution_count": null,
      "outputs": [
        {
          "output_type": "stream",
          "name": "stdout",
          "text": [
            "(4286, 19)\n",
            "(17913, 19)\n"
          ]
        }
      ]
    },
    {
      "cell_type": "code",
      "source": [
        "# Using OpenAI and api models\n",
        "\n",
        "\n",
        "llm = ChatOpenAI(\n",
        "            model_name='gpt-4o-mini',\n",
        "            temperature=0.5,\n",
        "            streaming=True,\n",
        "            openai_api_key=",\n",
        "            max_tokens=2500)"
      ],
      "metadata": {
        "id": "5Nl3QuO6JCFZ"
      },
      "execution_count": null,
      "outputs": []
    },
    {
      "cell_type": "code",
      "source": [
        "prompt_template = \"\"\"You are an AI assistant with expertise in international relations, law, and political science.\n",
        "Your task is to analyze the text of resolutions issued by the UN General Assembly\n",
        "and identify if a specific country is being condemned or criticized by the UN resolution.\n",
        "For each General Assembly Resolution I provide, please return only the name of the specific country being criticized.\n",
        "If no specific country is being criticized, return \"None\": {text}\"\"\"\n",
        "\n",
        "\n",
        "def run_sentiment_analysis(text):\n",
        "    prompt = PromptTemplate(input_variables=[\"text\"], template=prompt_template)\n",
        "\n",
        "\n",
        "    llm_chain = LLMChain(prompt=prompt, llm=llm)\n",
        "\n",
        "\n",
        "    result = llm_chain.run(text)\n",
        "\n",
        "\n",
        "    return result\n",
        "\n"
      ],
      "metadata": {
        "id": "dUklp-AaJXN_"
      },
      "execution_count": null,
      "outputs": []
    },
    {
      "cell_type": "code",
      "source": [
        "# Initialize the new variable (column) with default values for testing\n",
        "filtered_df['country'] = ''\n",
        "\n",
        "# Apply the sentiment analysis function to the 'content' column, getting GPT to evaluate the text of each resolution\n",
        "filtered_df['country'] = filtered_df['content'].apply(run_sentiment_analysis)"
      ],
      "metadata": {
        "id": "jrJZ5Ju7Uy_v",
        "colab": {
          "base_uri": "https://localhost:8080/"
        },
        "outputId": "1ec07100-9355-4238-ea0e-e25437ab8ca2"
      },
      "execution_count": null,
      "outputs": [
        {
          "output_type": "stream",
          "name": "stderr",
          "text": [
            "<ipython-input-40-c57ed4d92a1a>:2: SettingWithCopyWarning: \n",
            "A value is trying to be set on a copy of a slice from a DataFrame.\n",
            "Try using .loc[row_indexer,col_indexer] = value instead\n",
            "\n",
            "See the caveats in the documentation: https://pandas.pydata.org/pandas-docs/stable/user_guide/indexing.html#returning-a-view-versus-a-copy\n",
            "  filtered_df['country'] = ''\n",
            "<ipython-input-40-c57ed4d92a1a>:5: SettingWithCopyWarning: \n",
            "A value is trying to be set on a copy of a slice from a DataFrame.\n",
            "Try using .loc[row_indexer,col_indexer] = value instead\n",
            "\n",
            "See the caveats in the documentation: https://pandas.pydata.org/pandas-docs/stable/user_guide/indexing.html#returning-a-view-versus-a-copy\n",
            "  filtered_df['country'] = filtered_df['content'].apply(run_sentiment_analysis)\n"
          ]
        }
      ]
    },
    {
      "cell_type": "code",
      "source": [
        "print(filtered_df['country'].value_counts())\n",
        "filtered_df.head()"
      ],
      "metadata": {
        "colab": {
          "base_uri": "https://localhost:8080/",
          "height": 1000
        },
        "id": "3Zqj3AbH-8rL",
        "outputId": "f44dbee5-1f26-401e-df41-342dae56175a",
        "collapsed": true
      },
      "execution_count": null,
      "outputs": [
        {
          "output_type": "stream",
          "name": "stdout",
          "text": [
            "country\n",
            "None                                                      3344\n",
            "South Africa                                               318\n",
            "Israel                                                     298\n",
            "United States of America                                    55\n",
            "France                                                      27\n",
            "United Kingdom                                              23\n",
            "United Kingdom of Great Britain and Northern Ireland        21\n",
            "Sudan                                                       17\n",
            "Morocco                                                     13\n",
            "El Salvador                                                 12\n",
            "Afghanistan                                                 11\n",
            "Haiti                                                       11\n",
            "Iraq                                                        10\n",
            "Chile                                                       10\n",
            "Somalia                                                     10\n",
            "Ethiopia                                                     9\n",
            "Nicaragua                                                    8\n",
            "South Africa, Namibia                                        8\n",
            "Liberia                                                      7\n",
            "Iran                                                         6\n",
            "Guatemala                                                    6\n",
            "New Zealand                                                  4\n",
            "Zaire                                                        4\n",
            "Federal Republic of Yugoslavia (Serbia and Montenegro)       4\n",
            "Myanmar                                                      3\n",
            "United States                                                3\n",
            "Serbia                                                       3\n",
            "Cambodia                                                     3\n",
            "Serbia and Montenegro                                        3\n",
            "Uganda                                                       3\n",
            "Argentina                                                    3\n",
            "Cuba                                                         3\n",
            "Argentina, United Kingdom                                    2\n",
            "South Africa and Namibia                                     2\n",
            "Indonesia                                                    2\n",
            "Islamic Republic of Iran                                     2\n",
            "Zimbabwe                                                     1\n",
            "Burundi                                                      1\n",
            "Russian Federation                                           1\n",
            "Palestine                                                    1\n",
            "Estonia and Latvia                                           1\n",
            "Angola                                                       1\n",
            "Democratic People's Republic of Korea                        1\n",
            "Sierra Leone                                                 1\n",
            "Colombia                                                     1\n",
            "Bangladesh                                                   1\n",
            "Iran, Iraq                                                   1\n",
            "Equatorial Guinea                                            1\n",
            "Israel, United States of America                             1\n",
            "Central African Republic                                     1\n",
            "Turkey                                                       1\n",
            "United States of America, South Africa                       1\n",
            "Namibia, South Africa                                        1\n",
            "Mozambique                                                   1\n",
            "Name: count, dtype: int64\n"
          ]
        },
        {
          "output_type": "execute_result",
          "data": {
            "text/plain": [
              "     res_id2                      res_id3 res_id2_unlet  alt_id_dic  \\\n",
              "5466    36/1    36/1 of 15 september 1981          36/1           0   \n",
              "5467  36/2 a  36/2 a of 18 september 1981          36/2           0   \n",
              "5468  36/2 b   36/2 b of 17 december 1981          36/2           0   \n",
              "5469    36/3    36/3 of 25 september 1981          36/3           0   \n",
              "5470    36/4      36/4 of 15 october 1981          36/4           0   \n",
              "\n",
              "     session_type  session_reg  session_sp  session_es  resn res_letter  \\\n",
              "5466      regular         36.0         NaN         NaN     1        NaN   \n",
              "5467      regular         36.0         NaN         NaN     2          a   \n",
              "5468      regular         36.0         NaN         NaN     2          b   \n",
              "5469      regular         36.0         NaN         NaN     3        NaN   \n",
              "5470      regular         36.0         NaN         NaN     4        NaN   \n",
              "\n",
              "          date_p             date_c           filename  \\\n",
              "5466  1981-09-15  15 september 1981    ga_reg_36_1.txt   \n",
              "5467  1981-09-18  18 september 1981  ga_reg_36_2_a.txt   \n",
              "5468  1981-12-17   17 december 1981  ga_reg_36_2_b.txt   \n",
              "5469  1981-09-25  25 september 1981    ga_reg_36_3.txt   \n",
              "5470  1981-10-15    15 october 1981    ga_reg_36_4.txt   \n",
              "\n",
              "                                                content location       record  \\\n",
              "5466  36/1. admission of the republic of vanuatu to ...  plenary    a/36/pv.1   \n",
              "5467  36/2. credentials of representatives to the th...  plenary    a/36/pv.3   \n",
              "5468  36/2. credentials of representatives to the th...  plenary  a/36/pv.103   \n",
              "5469  36/3. admission of belize to membership in the...  plenary   a/36/pv.13   \n",
              "5470  36/4. observer status for the african, caribbe...  plenary   a/36/pv.35   \n",
              "\n",
              "                   draft                                              topic  \\\n",
              "5466  a/36/l.1 and add.1  admission of the republic of vanuatu to member...   \n",
              "5467            a/36/517  credentials of representatives to the 36th ses...   \n",
              "5468      a/36/517/add.1  credentials of representatives to the 36th ses...   \n",
              "5469  a/36/l.4 and add.1  admission of belize to membership in the unite...   \n",
              "5470  a/36/l.5 and add.1  observer status for the african, caribbean and...   \n",
              "\n",
              "      n_inc_cit country  \n",
              "5466          0    None  \n",
              "5467          0    None  \n",
              "5468          0    None  \n",
              "5469          0    None  \n",
              "5470          0    None  "
            ],
            "text/html": [
              "\n",
              "  <div id=\"df-9dfa2db3-e73e-4466-8944-b98a63dc15a7\" class=\"colab-df-container\">\n",
              "    <div>\n",
              "<style scoped>\n",
              "    .dataframe tbody tr th:only-of-type {\n",
              "        vertical-align: middle;\n",
              "    }\n",
              "\n",
              "    .dataframe tbody tr th {\n",
              "        vertical-align: top;\n",
              "    }\n",
              "\n",
              "    .dataframe thead th {\n",
              "        text-align: right;\n",
              "    }\n",
              "</style>\n",
              "<table border=\"1\" class=\"dataframe\">\n",
              "  <thead>\n",
              "    <tr style=\"text-align: right;\">\n",
              "      <th></th>\n",
              "      <th>res_id2</th>\n",
              "      <th>res_id3</th>\n",
              "      <th>res_id2_unlet</th>\n",
              "      <th>alt_id_dic</th>\n",
              "      <th>session_type</th>\n",
              "      <th>session_reg</th>\n",
              "      <th>session_sp</th>\n",
              "      <th>session_es</th>\n",
              "      <th>resn</th>\n",
              "      <th>res_letter</th>\n",
              "      <th>date_p</th>\n",
              "      <th>date_c</th>\n",
              "      <th>filename</th>\n",
              "      <th>content</th>\n",
              "      <th>location</th>\n",
              "      <th>record</th>\n",
              "      <th>draft</th>\n",
              "      <th>topic</th>\n",
              "      <th>n_inc_cit</th>\n",
              "      <th>country</th>\n",
              "    </tr>\n",
              "  </thead>\n",
              "  <tbody>\n",
              "    <tr>\n",
              "      <th>5466</th>\n",
              "      <td>36/1</td>\n",
              "      <td>36/1 of 15 september 1981</td>\n",
              "      <td>36/1</td>\n",
              "      <td>0</td>\n",
              "      <td>regular</td>\n",
              "      <td>36.0</td>\n",
              "      <td>NaN</td>\n",
              "      <td>NaN</td>\n",
              "      <td>1</td>\n",
              "      <td>NaN</td>\n",
              "      <td>1981-09-15</td>\n",
              "      <td>15 september 1981</td>\n",
              "      <td>ga_reg_36_1.txt</td>\n",
              "      <td>36/1. admission of the republic of vanuatu to ...</td>\n",
              "      <td>plenary</td>\n",
              "      <td>a/36/pv.1</td>\n",
              "      <td>a/36/l.1 and add.1</td>\n",
              "      <td>admission of the republic of vanuatu to member...</td>\n",
              "      <td>0</td>\n",
              "      <td>None</td>\n",
              "    </tr>\n",
              "    <tr>\n",
              "      <th>5467</th>\n",
              "      <td>36/2 a</td>\n",
              "      <td>36/2 a of 18 september 1981</td>\n",
              "      <td>36/2</td>\n",
              "      <td>0</td>\n",
              "      <td>regular</td>\n",
              "      <td>36.0</td>\n",
              "      <td>NaN</td>\n",
              "      <td>NaN</td>\n",
              "      <td>2</td>\n",
              "      <td>a</td>\n",
              "      <td>1981-09-18</td>\n",
              "      <td>18 september 1981</td>\n",
              "      <td>ga_reg_36_2_a.txt</td>\n",
              "      <td>36/2. credentials of representatives to the th...</td>\n",
              "      <td>plenary</td>\n",
              "      <td>a/36/pv.3</td>\n",
              "      <td>a/36/517</td>\n",
              "      <td>credentials of representatives to the 36th ses...</td>\n",
              "      <td>0</td>\n",
              "      <td>None</td>\n",
              "    </tr>\n",
              "    <tr>\n",
              "      <th>5468</th>\n",
              "      <td>36/2 b</td>\n",
              "      <td>36/2 b of 17 december 1981</td>\n",
              "      <td>36/2</td>\n",
              "      <td>0</td>\n",
              "      <td>regular</td>\n",
              "      <td>36.0</td>\n",
              "      <td>NaN</td>\n",
              "      <td>NaN</td>\n",
              "      <td>2</td>\n",
              "      <td>b</td>\n",
              "      <td>1981-12-17</td>\n",
              "      <td>17 december 1981</td>\n",
              "      <td>ga_reg_36_2_b.txt</td>\n",
              "      <td>36/2. credentials of representatives to the th...</td>\n",
              "      <td>plenary</td>\n",
              "      <td>a/36/pv.103</td>\n",
              "      <td>a/36/517/add.1</td>\n",
              "      <td>credentials of representatives to the 36th ses...</td>\n",
              "      <td>0</td>\n",
              "      <td>None</td>\n",
              "    </tr>\n",
              "    <tr>\n",
              "      <th>5469</th>\n",
              "      <td>36/3</td>\n",
              "      <td>36/3 of 25 september 1981</td>\n",
              "      <td>36/3</td>\n",
              "      <td>0</td>\n",
              "      <td>regular</td>\n",
              "      <td>36.0</td>\n",
              "      <td>NaN</td>\n",
              "      <td>NaN</td>\n",
              "      <td>3</td>\n",
              "      <td>NaN</td>\n",
              "      <td>1981-09-25</td>\n",
              "      <td>25 september 1981</td>\n",
              "      <td>ga_reg_36_3.txt</td>\n",
              "      <td>36/3. admission of belize to membership in the...</td>\n",
              "      <td>plenary</td>\n",
              "      <td>a/36/pv.13</td>\n",
              "      <td>a/36/l.4 and add.1</td>\n",
              "      <td>admission of belize to membership in the unite...</td>\n",
              "      <td>0</td>\n",
              "      <td>None</td>\n",
              "    </tr>\n",
              "    <tr>\n",
              "      <th>5470</th>\n",
              "      <td>36/4</td>\n",
              "      <td>36/4 of 15 october 1981</td>\n",
              "      <td>36/4</td>\n",
              "      <td>0</td>\n",
              "      <td>regular</td>\n",
              "      <td>36.0</td>\n",
              "      <td>NaN</td>\n",
              "      <td>NaN</td>\n",
              "      <td>4</td>\n",
              "      <td>NaN</td>\n",
              "      <td>1981-10-15</td>\n",
              "      <td>15 october 1981</td>\n",
              "      <td>ga_reg_36_4.txt</td>\n",
              "      <td>36/4. observer status for the african, caribbe...</td>\n",
              "      <td>plenary</td>\n",
              "      <td>a/36/pv.35</td>\n",
              "      <td>a/36/l.5 and add.1</td>\n",
              "      <td>observer status for the african, caribbean and...</td>\n",
              "      <td>0</td>\n",
              "      <td>None</td>\n",
              "    </tr>\n",
              "  </tbody>\n",
              "</table>\n",
              "</div>\n",
              "    <div class=\"colab-df-buttons\">\n",
              "\n",
              "  <div class=\"colab-df-container\">\n",
              "    <button class=\"colab-df-convert\" onclick=\"convertToInteractive('df-9dfa2db3-e73e-4466-8944-b98a63dc15a7')\"\n",
              "            title=\"Convert this dataframe to an interactive table.\"\n",
              "            style=\"display:none;\">\n",
              "\n",
              "  <svg xmlns=\"http://www.w3.org/2000/svg\" height=\"24px\" viewBox=\"0 -960 960 960\">\n",
              "    <path d=\"M120-120v-720h720v720H120Zm60-500h600v-160H180v160Zm220 220h160v-160H400v160Zm0 220h160v-160H400v160ZM180-400h160v-160H180v160Zm440 0h160v-160H620v160ZM180-180h160v-160H180v160Zm440 0h160v-160H620v160Z\"/>\n",
              "  </svg>\n",
              "    </button>\n",
              "\n",
              "  <style>\n",
              "    .colab-df-container {\n",
              "      display:flex;\n",
              "      gap: 12px;\n",
              "    }\n",
              "\n",
              "    .colab-df-convert {\n",
              "      background-color: #E8F0FE;\n",
              "      border: none;\n",
              "      border-radius: 50%;\n",
              "      cursor: pointer;\n",
              "      display: none;\n",
              "      fill: #1967D2;\n",
              "      height: 32px;\n",
              "      padding: 0 0 0 0;\n",
              "      width: 32px;\n",
              "    }\n",
              "\n",
              "    .colab-df-convert:hover {\n",
              "      background-color: #E2EBFA;\n",
              "      box-shadow: 0px 1px 2px rgba(60, 64, 67, 0.3), 0px 1px 3px 1px rgba(60, 64, 67, 0.15);\n",
              "      fill: #174EA6;\n",
              "    }\n",
              "\n",
              "    .colab-df-buttons div {\n",
              "      margin-bottom: 4px;\n",
              "    }\n",
              "\n",
              "    [theme=dark] .colab-df-convert {\n",
              "      background-color: #3B4455;\n",
              "      fill: #D2E3FC;\n",
              "    }\n",
              "\n",
              "    [theme=dark] .colab-df-convert:hover {\n",
              "      background-color: #434B5C;\n",
              "      box-shadow: 0px 1px 3px 1px rgba(0, 0, 0, 0.15);\n",
              "      filter: drop-shadow(0px 1px 2px rgba(0, 0, 0, 0.3));\n",
              "      fill: #FFFFFF;\n",
              "    }\n",
              "  </style>\n",
              "\n",
              "    <script>\n",
              "      const buttonEl =\n",
              "        document.querySelector('#df-9dfa2db3-e73e-4466-8944-b98a63dc15a7 button.colab-df-convert');\n",
              "      buttonEl.style.display =\n",
              "        google.colab.kernel.accessAllowed ? 'block' : 'none';\n",
              "\n",
              "      async function convertToInteractive(key) {\n",
              "        const element = document.querySelector('#df-9dfa2db3-e73e-4466-8944-b98a63dc15a7');\n",
              "        const dataTable =\n",
              "          await google.colab.kernel.invokeFunction('convertToInteractive',\n",
              "                                                    [key], {});\n",
              "        if (!dataTable) return;\n",
              "\n",
              "        const docLinkHtml = 'Like what you see? Visit the ' +\n",
              "          '<a target=\"_blank\" href=https://colab.research.google.com/notebooks/data_table.ipynb>data table notebook</a>'\n",
              "          + ' to learn more about interactive tables.';\n",
              "        element.innerHTML = '';\n",
              "        dataTable['output_type'] = 'display_data';\n",
              "        await google.colab.output.renderOutput(dataTable, element);\n",
              "        const docLink = document.createElement('div');\n",
              "        docLink.innerHTML = docLinkHtml;\n",
              "        element.appendChild(docLink);\n",
              "      }\n",
              "    </script>\n",
              "  </div>\n",
              "\n",
              "\n",
              "<div id=\"df-a9c1445b-cc59-4b72-ab22-62043eed9eee\">\n",
              "  <button class=\"colab-df-quickchart\" onclick=\"quickchart('df-a9c1445b-cc59-4b72-ab22-62043eed9eee')\"\n",
              "            title=\"Suggest charts\"\n",
              "            style=\"display:none;\">\n",
              "\n",
              "<svg xmlns=\"http://www.w3.org/2000/svg\" height=\"24px\"viewBox=\"0 0 24 24\"\n",
              "     width=\"24px\">\n",
              "    <g>\n",
              "        <path d=\"M19 3H5c-1.1 0-2 .9-2 2v14c0 1.1.9 2 2 2h14c1.1 0 2-.9 2-2V5c0-1.1-.9-2-2-2zM9 17H7v-7h2v7zm4 0h-2V7h2v10zm4 0h-2v-4h2v4z\"/>\n",
              "    </g>\n",
              "</svg>\n",
              "  </button>\n",
              "\n",
              "<style>\n",
              "  .colab-df-quickchart {\n",
              "      --bg-color: #E8F0FE;\n",
              "      --fill-color: #1967D2;\n",
              "      --hover-bg-color: #E2EBFA;\n",
              "      --hover-fill-color: #174EA6;\n",
              "      --disabled-fill-color: #AAA;\n",
              "      --disabled-bg-color: #DDD;\n",
              "  }\n",
              "\n",
              "  [theme=dark] .colab-df-quickchart {\n",
              "      --bg-color: #3B4455;\n",
              "      --fill-color: #D2E3FC;\n",
              "      --hover-bg-color: #434B5C;\n",
              "      --hover-fill-color: #FFFFFF;\n",
              "      --disabled-bg-color: #3B4455;\n",
              "      --disabled-fill-color: #666;\n",
              "  }\n",
              "\n",
              "  .colab-df-quickchart {\n",
              "    background-color: var(--bg-color);\n",
              "    border: none;\n",
              "    border-radius: 50%;\n",
              "    cursor: pointer;\n",
              "    display: none;\n",
              "    fill: var(--fill-color);\n",
              "    height: 32px;\n",
              "    padding: 0;\n",
              "    width: 32px;\n",
              "  }\n",
              "\n",
              "  .colab-df-quickchart:hover {\n",
              "    background-color: var(--hover-bg-color);\n",
              "    box-shadow: 0 1px 2px rgba(60, 64, 67, 0.3), 0 1px 3px 1px rgba(60, 64, 67, 0.15);\n",
              "    fill: var(--button-hover-fill-color);\n",
              "  }\n",
              "\n",
              "  .colab-df-quickchart-complete:disabled,\n",
              "  .colab-df-quickchart-complete:disabled:hover {\n",
              "    background-color: var(--disabled-bg-color);\n",
              "    fill: var(--disabled-fill-color);\n",
              "    box-shadow: none;\n",
              "  }\n",
              "\n",
              "  .colab-df-spinner {\n",
              "    border: 2px solid var(--fill-color);\n",
              "    border-color: transparent;\n",
              "    border-bottom-color: var(--fill-color);\n",
              "    animation:\n",
              "      spin 1s steps(1) infinite;\n",
              "  }\n",
              "\n",
              "  @keyframes spin {\n",
              "    0% {\n",
              "      border-color: transparent;\n",
              "      border-bottom-color: var(--fill-color);\n",
              "      border-left-color: var(--fill-color);\n",
              "    }\n",
              "    20% {\n",
              "      border-color: transparent;\n",
              "      border-left-color: var(--fill-color);\n",
              "      border-top-color: var(--fill-color);\n",
              "    }\n",
              "    30% {\n",
              "      border-color: transparent;\n",
              "      border-left-color: var(--fill-color);\n",
              "      border-top-color: var(--fill-color);\n",
              "      border-right-color: var(--fill-color);\n",
              "    }\n",
              "    40% {\n",
              "      border-color: transparent;\n",
              "      border-right-color: var(--fill-color);\n",
              "      border-top-color: var(--fill-color);\n",
              "    }\n",
              "    60% {\n",
              "      border-color: transparent;\n",
              "      border-right-color: var(--fill-color);\n",
              "    }\n",
              "    80% {\n",
              "      border-color: transparent;\n",
              "      border-right-color: var(--fill-color);\n",
              "      border-bottom-color: var(--fill-color);\n",
              "    }\n",
              "    90% {\n",
              "      border-color: transparent;\n",
              "      border-bottom-color: var(--fill-color);\n",
              "    }\n",
              "  }\n",
              "</style>\n",
              "\n",
              "  <script>\n",
              "    async function quickchart(key) {\n",
              "      const quickchartButtonEl =\n",
              "        document.querySelector('#' + key + ' button');\n",
              "      quickchartButtonEl.disabled = true;  // To prevent multiple clicks.\n",
              "      quickchartButtonEl.classList.add('colab-df-spinner');\n",
              "      try {\n",
              "        const charts = await google.colab.kernel.invokeFunction(\n",
              "            'suggestCharts', [key], {});\n",
              "      } catch (error) {\n",
              "        console.error('Error during call to suggestCharts:', error);\n",
              "      }\n",
              "      quickchartButtonEl.classList.remove('colab-df-spinner');\n",
              "      quickchartButtonEl.classList.add('colab-df-quickchart-complete');\n",
              "    }\n",
              "    (() => {\n",
              "      let quickchartButtonEl =\n",
              "        document.querySelector('#df-a9c1445b-cc59-4b72-ab22-62043eed9eee button');\n",
              "      quickchartButtonEl.style.display =\n",
              "        google.colab.kernel.accessAllowed ? 'block' : 'none';\n",
              "    })();\n",
              "  </script>\n",
              "</div>\n",
              "\n",
              "    </div>\n",
              "  </div>\n"
            ],
            "application/vnd.google.colaboratory.intrinsic+json": {
              "type": "dataframe",
              "variable_name": "filtered_df",
              "repr_error": "0"
            }
          },
          "metadata": {},
          "execution_count": 41
        }
      ]
    },
    {
      "cell_type": "code",
      "source": [
        "#Practicing saving files to google drive\n",
        "# Define the file path in your Google Drive\n",
        "file_path = '/content/gdrive/MyDrive/UNGA/MesquitaGPT.csv'\n",
        "\n",
        "# Save the DataFrame to the file path as a CSV\n",
        "filtered_df.to_csv(file_path, index=False)\n",
        "\n",
        "print(f'DataFrame saved to {file_path}')\n"
      ],
      "metadata": {
        "colab": {
          "base_uri": "https://localhost:8080/"
        },
        "id": "kAkyCxvEEHJp",
        "outputId": "f49523e1-74d9-4ed9-e4cf-b34b937dda43"
      },
      "execution_count": null,
      "outputs": [
        {
          "output_type": "stream",
          "name": "stdout",
          "text": [
            "DataFrame saved to /content/gdrive/MyDrive/UNGA/MesquitaGPT.csv\n"
          ]
        }
      ]
    },
    {
      "cell_type": "markdown",
      "source": [
        "#The rest of the file examines the issue of Resolutions with multiple sections being treated as different observations."
      ],
      "metadata": {
        "id": "VK1xUl-AyiiA"
      }
    },
    {
      "cell_type": "code",
      "source": [],
      "metadata": {
        "id": "ZaWGlC7EyU2M"
      },
      "execution_count": null,
      "outputs": []
    },
    {
      "cell_type": "code",
      "source": [
        "#Determining how often resolutions with the same number as measured by res_id2_unlet have the same country value.\n",
        "\n",
        "#Keeping only observations that have multiple occurrences of res_id2_unlet\n",
        "# Step 1: Count the occurrences of each `res_id2`\n",
        "res_id2_counts = filtered_df['res_id2_unlet'].value_counts()\n",
        "\n",
        "# Step 2: Filter for res_id2 values that appear more than once\n",
        "multi_res_id2 = res_id2_counts[res_id2_counts > 1].index\n",
        "\n",
        "# Step 3: Keep only rows with `res_id2` in `multi_res_id2`\n",
        "multiple_df = filtered_df[filtered_df['res_id2_unlet'].isin(multi_res_id2)]\n",
        "\n",
        "# Display the resulting DataFrame\n",
        "print(filtered_df.shape)\n",
        "print(multiple_df.shape)"
      ],
      "metadata": {
        "colab": {
          "base_uri": "https://localhost:8080/"
        },
        "id": "_FE_50lne2-O",
        "outputId": "c2fbe50c-de3e-4b8f-fcdc-c23d3c8320d9"
      },
      "execution_count": null,
      "outputs": [
        {
          "output_type": "stream",
          "name": "stdout",
          "text": [
            "(4286, 20)\n",
            "(1424, 20)\n"
          ]
        }
      ]
    },
    {
      "cell_type": "code",
      "source": [
        "# Doing the same procedure for the Voelsen data. Keep only one observation for each unique 'res_id2_unlet' value to avoid potential double counting\n",
        "df_unique = filtered_df.drop_duplicates(subset='res_id2_unlet', keep='first')\n",
        "print(df_unique.shape)\n",
        "print(df_unique['country'].value_counts())"
      ],
      "metadata": {
        "id": "YAtpltQ5uQvR"
      },
      "execution_count": null,
      "outputs": []
    },
    {
      "cell_type": "code",
      "source": [
        "# Keep only one observation for each unique 'res_id2_unlet' value to avoid potential double counting\n",
        "df_unique = filtered_df.drop_duplicates(subset='res_id2_unlet', keep='first')\n",
        "print(df_unique.shape)\n",
        "print(df_unique['country'].value_counts())"
      ],
      "metadata": {
        "colab": {
          "base_uri": "https://localhost:8080/"
        },
        "id": "S8zWR0ZktEyq",
        "outputId": "0f37c157-983f-4915-cc0b-d1252335de94"
      },
      "execution_count": null,
      "outputs": [
        {
          "output_type": "stream",
          "name": "stdout",
          "text": [
            "(3182, 20)\n",
            "country\n",
            "None                                                      2594\n",
            "South Africa                                               184\n",
            "Israel                                                      86\n",
            "United States of America                                    52\n",
            "France                                                      27\n",
            "United Kingdom                                              23\n",
            "United Kingdom of Great Britain and Northern Ireland        21\n",
            "Sudan                                                       17\n",
            "Morocco                                                     13\n",
            "El Salvador                                                 12\n",
            "Afghanistan                                                 11\n",
            "Iraq                                                        10\n",
            "Chile                                                       10\n",
            "Ethiopia                                                     9\n",
            "Haiti                                                        9\n",
            "Somalia                                                      9\n",
            "Nicaragua                                                    8\n",
            "South Africa, Namibia                                        8\n",
            "Liberia                                                      7\n",
            "Guatemala                                                    6\n",
            "Iran                                                         6\n",
            "Federal Republic of Yugoslavia (Serbia and Montenegro)       4\n",
            "New Zealand                                                  4\n",
            "Zaire                                                        4\n",
            "Serbia                                                       3\n",
            "Myanmar                                                      3\n",
            "Cuba                                                         3\n",
            "Serbia and Montenegro                                        3\n",
            "United States                                                3\n",
            "Cambodia                                                     3\n",
            "Uganda                                                       3\n",
            "Argentina                                                    3\n",
            "Argentina, United Kingdom                                    2\n",
            "South Africa and Namibia                                     2\n",
            "Indonesia                                                    2\n",
            "Islamic Republic of Iran                                     2\n",
            "Russian Federation                                           1\n",
            "Palestine                                                    1\n",
            "Burundi                                                      1\n",
            "Democratic People's Republic of Korea                        1\n",
            "Estonia and Latvia                                           1\n",
            "Angola                                                       1\n",
            "Zimbabwe                                                     1\n",
            "Bangladesh                                                   1\n",
            "Colombia                                                     1\n",
            "Iran, Iraq                                                   1\n",
            "Sierra Leone                                                 1\n",
            "Equatorial Guinea                                            1\n",
            "Central African Republic                                     1\n",
            "Turkey                                                       1\n",
            "Namibia, South Africa                                        1\n",
            "Mozambique                                                   1\n",
            "Name: count, dtype: int64\n"
          ]
        }
      ]
    },
    {
      "cell_type": "code",
      "source": [
        "# Step 1: Group by \"res_id2\"\n",
        "grouped = multiple_df.groupby('res_id2_unlet')\n",
        "total = len(grouped)\n",
        "\n",
        "# Step 2: Determine if all \"country\" values in each group are the same\n",
        "result = grouped['country'].apply(lambda x: len(set(x)) == 1)\n",
        "\n",
        "# Step 3: Count the number of times \"country\" is the same for all observations in groups\n",
        "matching_count = result.sum()\n",
        "\n",
        "# Step 4: Display the result\n",
        "print(f\"The 'country' variable is equal for all observations in {matching_count} groups.\")\n",
        "print(f\"There is more than one observation in {total} groups.\")"
      ],
      "metadata": {
        "colab": {
          "base_uri": "https://localhost:8080/"
        },
        "id": "Ir-ujOIHhSL7",
        "outputId": "3a4beafd-b207-486e-f86f-99b5b30e4198"
      },
      "execution_count": null,
      "outputs": [
        {
          "output_type": "stream",
          "name": "stdout",
          "text": [
            "The 'country' variable is equal for all observations in 254 groups.\n",
            "There is more than one observation in 320 groups.\n"
          ]
        }
      ]
    },
    {
      "cell_type": "code",
      "source": [
        "#Determining how often resolutions from the Voelsen data have the same UN id number.\n",
        "\n",
        "#Reading in Voelsen\n",
        "df1 = pd.read_csv(\"/content/gdrive/MyDrive/UNGA/full_text_data2.csv\")\n",
        "\n",
        "#Creating a variable that indicates if there is a letter after the second backslash of the unres variable\n",
        "df1['letter_res'] = df1['unres'].apply(lambda x: x.split('/')[2][0])\n"
      ],
      "metadata": {
        "colab": {
          "base_uri": "https://localhost:8080/"
        },
        "id": "r8ArZMvSk8fn",
        "outputId": "6ea5f15a-3252-495a-8e8c-2fd883589821"
      },
      "execution_count": null,
      "outputs": [
        {
          "output_type": "stream",
          "name": "stderr",
          "text": [
            "<ipython-input-50-9e6fdb3eff8a>:4: DtypeWarning: Columns (48,302,304,305,306,307) have mixed types. Specify dtype option on import or set low_memory=False.\n",
            "  df1 = pd.read_csv(\"/content/gdrive/MyDrive/UNGA/full_text_data2.csv\")\n"
          ]
        }
      ]
    },
    {
      "cell_type": "code",
      "source": [
        "df1['letter_res'].value_counts()"
      ],
      "metadata": {
        "colab": {
          "base_uri": "https://localhost:8080/",
          "height": 397
        },
        "id": "rQDbxQZOpDvF",
        "outputId": "036a38e7-c8f7-41fc-8b27-4ba989cc0c83"
      },
      "execution_count": null,
      "outputs": [
        {
          "output_type": "execute_result",
          "data": {
            "text/plain": [
              "letter_res\n",
              "1    3576\n",
              "2    3219\n",
              "3     759\n",
              "7     436\n",
              "5     388\n",
              "4     371\n",
              "9     358\n",
              "8     356\n",
              "6     346\n",
              "Name: count, dtype: int64"
            ],
            "text/html": [
              "<div>\n",
              "<style scoped>\n",
              "    .dataframe tbody tr th:only-of-type {\n",
              "        vertical-align: middle;\n",
              "    }\n",
              "\n",
              "    .dataframe tbody tr th {\n",
              "        vertical-align: top;\n",
              "    }\n",
              "\n",
              "    .dataframe thead th {\n",
              "        text-align: right;\n",
              "    }\n",
              "</style>\n",
              "<table border=\"1\" class=\"dataframe\">\n",
              "  <thead>\n",
              "    <tr style=\"text-align: right;\">\n",
              "      <th></th>\n",
              "      <th>count</th>\n",
              "    </tr>\n",
              "    <tr>\n",
              "      <th>letter_res</th>\n",
              "      <th></th>\n",
              "    </tr>\n",
              "  </thead>\n",
              "  <tbody>\n",
              "    <tr>\n",
              "      <th>1</th>\n",
              "      <td>3576</td>\n",
              "    </tr>\n",
              "    <tr>\n",
              "      <th>2</th>\n",
              "      <td>3219</td>\n",
              "    </tr>\n",
              "    <tr>\n",
              "      <th>3</th>\n",
              "      <td>759</td>\n",
              "    </tr>\n",
              "    <tr>\n",
              "      <th>7</th>\n",
              "      <td>436</td>\n",
              "    </tr>\n",
              "    <tr>\n",
              "      <th>5</th>\n",
              "      <td>388</td>\n",
              "    </tr>\n",
              "    <tr>\n",
              "      <th>4</th>\n",
              "      <td>371</td>\n",
              "    </tr>\n",
              "    <tr>\n",
              "      <th>9</th>\n",
              "      <td>358</td>\n",
              "    </tr>\n",
              "    <tr>\n",
              "      <th>8</th>\n",
              "      <td>356</td>\n",
              "    </tr>\n",
              "    <tr>\n",
              "      <th>6</th>\n",
              "      <td>346</td>\n",
              "    </tr>\n",
              "  </tbody>\n",
              "</table>\n",
              "</div><br><label><b>dtype:</b> int64</label>"
            ]
          },
          "metadata": {},
          "execution_count": 51
        }
      ]
    },
    {
      "cell_type": "code",
      "source": [
        "\n",
        "#Keeping only observations that have multiple occurrences of res_id2_unlet\n",
        "# Step 1: Count the occurrences of each `res_id2`\n",
        "res_id2_counts = filtered_df['res_id2_unlet'].value_counts()\n",
        "\n",
        "# Step 2: Filter for res_id2 values that appear more than once\n",
        "multi_res_id2 = res_id2_counts[res_id2_counts > 1].index\n",
        "\n",
        "# Step 3: Keep only rows with `res_id2` in `multi_res_id2`\n",
        "multiple_df = filtered_df[filtered_df['res_id2_unlet'].isin(multi_res_id2)]\n",
        "\n",
        "# Display the resulting DataFrame\n",
        "print(filtered_df.shape)\n",
        "print(multiple_df.shape)"
      ],
      "metadata": {
        "id": "1KaTrGtwo9__"
      },
      "execution_count": null,
      "outputs": []
    }
  ]
}