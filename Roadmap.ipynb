{
  "nbformat": 4,
  "nbformat_minor": 0,
  "metadata": {
    "colab": {
      "provenance": [],
      "authorship_tag": "ABX9TyPqRSftGm22loTF2p/W8xLZ",
      "include_colab_link": true
    },
    "kernelspec": {
      "name": "python3",
      "display_name": "Python 3"
    },
    "language_info": {
      "name": "python"
    }
  },
  "cells": [
    {
      "cell_type": "markdown",
      "metadata": {
        "id": "view-in-github",
        "colab_type": "text"
      },
      "source": [
        "<a href=\"https://colab.research.google.com/github/ylistokin/UNGA/blob/main/Roadmap.ipynb\" target=\"_parent\"><img src=\"https://colab.research.google.com/assets/colab-badge.svg\" alt=\"Open In Colab\"/></a>"
      ]
    },
    {
      "cell_type": "markdown",
      "source": [
        "This file provides a roadmap to all the python files used for the Israel and the UNGA project.\n",
        "\n",
        "The initial full text of each UNGA resolution from 1994 to the presentdata from Voelsen et al can be found in my Google Drive, (\"/content/gdrive/MyDrive/UNGA/fulltext.csv\").\n",
        "\n",
        "The initial full text of each UNGA resolution from 1981 to 1993 Mesquita can be found in my Google Drive, (\"/content/gdrive/MyDrive/UNGA/Mesquita.csv\").\n",
        "\n",
        "The Voelsen et al resolution data can be found at \"/content/gdrive/MyDrive/UNGA/2024-03-13_unga-res_with_countries.xlsx\".\n",
        "\n",
        "The .ipynb file \"/content/gdrive/MyDrive/UNGA/GPT on full Voelsen\" runs the text of each resolution through ChatGPT 4o mini and determines if each resolution criticizes a particular country. The resulting determinations are saved in df = pd.read_csv(\"/content/gdrive/MyDrive/UNGA/full_text_data2.csv\")\n",
        "\n",
        "The .ipynb file \"/content/gdrive/MyDrive/UNGA/GPT on Mesquita\" runs the text of each resolution from 1981-1993 through ChatGPT 4o mini and determines if each resolution criticizes a particular country. The resulting determinations are saved in df = pd.read_csv(\"/content/gdrive/MyDrive/UNGA/full_text_data2.csv\")\n",
        "\n",
        "\n",
        "I calculate the number of annual critical resolutions for each country from 1981-2023 in  /content/gdrive/MyDrive/UNGA/Annual Country Resolutions MV.ipynb\")  (This file combines the Mesquita and Voelsen data together.) I save the resulting data as /content/gdrive/MyDrive/UNGA/GPT_resolution_counts.csv\n",
        "This pythong file also separates out \"unique\". I also save a separate file that drops resolutions with multiple sections counted as separate resolutions in the file as /content/gdrive/MyDrive/UNGA/GPT_unique_resolution_counts.csv\n",
        "\n",
        "I calculate the number of annual critical resolutions for each country from 1981-1993 in  /content/gdrive/MyDrive/UNGA/v2Mes Annual Country Resolutions.ipynb\").\n",
        "\n",
        "I compare the GPT tagged data with the UN Watch data in /content/gdrive/MyDrive/UNGA/F1 score.ipynb\").\n",
        "\n",
        "I then merge multiple datasets and create variable definitions in stata in the do file \"C:\\Users\\yjl6\\Dropbox (YLS)\\Anti Semitism\\Israel and the UN\\Data\\01_make_variables_8123\" and save the resulting data as \"C:\\Users\\yjl6\\Dropbox (YLS)\\Anti Semitism\\Israel and the UN\\Data\\final_data.dta\".\n",
        "\n",
        "I run the oaxaca decomposition starting with this data, uploaded to the gdrive as /content/gdrive/MyDrive/UNGA/final_data.dta\"), in the file /content/gdrive/MyDrive/UNGA/oaxaca.ipynb\")\n"
      ],
      "metadata": {
        "id": "GW-yY1akxu_5"
      }
    },
    {
      "cell_type": "code",
      "execution_count": null,
      "metadata": {
        "id": "vVmZZcMQxsal"
      },
      "outputs": [],
      "source": []
    }
  ]
}