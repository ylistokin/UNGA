{
  "nbformat": 4,
  "nbformat_minor": 0,
  "metadata": {
    "colab": {
      "provenance": [],
      "authorship_tag": "ABX9TyMw57cZuztasxCmLyO4qr9X",
      "include_colab_link": true
    },
    "kernelspec": {
      "name": "python3",
      "display_name": "Python 3"
    },
    "language_info": {
      "name": "python"
    }
  },
  "cells": [
    {
      "cell_type": "markdown",
      "metadata": {
        "id": "view-in-github",
        "colab_type": "text"
      },
      "source": [
        "<a href=\"https://colab.research.google.com/github/ylistokin/UNGA/blob/main/Annual_Country_Resolutions_MV.ipynb\" target=\"_parent\"><img src=\"https://colab.research.google.com/assets/colab-badge.svg\" alt=\"Open In Colab\"/></a>"
      ]
    },
    {
      "cell_type": "markdown",
      "source": [
        "This file counts how many resolutions criticize a country in each year from 1981-2024.\n",
        " 1.  It first appends the Voelsen GPT evaluated data from /content/gdrive/MyDrive/UNGA/full_text_data2.csv. and the Mesquita GPT evaluated data from /content/gdrive/MyDrive/UNGA/MesquitaGPT.csv\n",
        " 2. Because of possible double countring in Voelsen and Mesquita due to treated different sections of a single resolution as multiple resolutions, the file creates two datasets, one with the observations as counted by Voelsen and Mesquita and the other with only one observations for each UNGA number, thereby eliminating multiple sections.\n",
        " 3. After appending the two datasets, I process the country names so that they are consistent and disentangle observations where more than one country is criticized.\n",
        " 4. Finally, the data is counted by year and country to give the counts.\n",
        " 5. Recall that most countries are not criticized in a particular year. T\n",
        "  After this To do this correctly, I need to account for resolutions criticizing more than one country. I save the data in /content/gdrive/MyDrive/UNGA/GPT_resolution_counts.csv. This data does not include counts for countries that are not criticized in a particular year."
      ],
      "metadata": {
        "id": "YhgoiGl40C5D"
      }
    },
    {
      "cell_type": "code",
      "execution_count": null,
      "metadata": {
        "colab": {
          "base_uri": "https://localhost:8080/"
        },
        "id": "pgBk0ooUJX5h",
        "outputId": "16cb4538-8699-494c-b04c-df4a46ab330a"
      },
      "outputs": [
        {
          "output_type": "stream",
          "name": "stdout",
          "text": [
            "Drive already mounted at /content/gdrive; to attempt to forcibly remount, call drive.mount(\"/content/gdrive\", force_remount=True).\n"
          ]
        }
      ],
      "source": [
        "import pandas as pd\n",
        "import pandas as pd\n",
        "import numpy as np\n",
        "from tqdm import tqdm\n",
        "\n",
        "\n",
        "from google.colab import drive\n",
        "drive.mount(\"/content/gdrive\")\n"
      ]
    },
    {
      "cell_type": "code",
      "source": [
        "#Reading in Voelsen Resolution data that has already been labeled by GPT\n",
        "df1 = pd.read_csv(\"/content/gdrive/MyDrive/UNGA/full_text_data2.csv\")\n",
        "\n",
        "#Reading in Mesquita Resolution data that has already been labeled by GPT\n",
        "df2 = pd.read_csv(\"/content/gdrive/MyDrive/UNGA/MesquitaGPT.csv\")\n"
      ],
      "metadata": {
        "colab": {
          "base_uri": "https://localhost:8080/"
        },
        "id": "6wqD4keoKhtL",
        "outputId": "2dd8b47b-3fa9-48c7-a750-3e0b3bb5036b"
      },
      "execution_count": null,
      "outputs": [
        {
          "output_type": "stream",
          "name": "stderr",
          "text": [
            "<ipython-input-49-876fc3af06d1>:2: DtypeWarning: Columns (48,302,304,305,306,307) have mixed types. Specify dtype option on import or set low_memory=False.\n",
            "  df1 = pd.read_csv(\"/content/gdrive/MyDrive/UNGA/full_text_data2.csv\")\n"
          ]
        }
      ]
    },
    {
      "cell_type": "code",
      "source": [
        "# Vertically append the DataFrames\n",
        "df = pd.concat([df1, df2], axis=0, ignore_index=True)\n",
        "\n"
      ],
      "metadata": {
        "id": "46YsvOYUUnX4"
      },
      "execution_count": null,
      "outputs": []
    },
    {
      "cell_type": "code",
      "source": [
        "print(df.shape)\n",
        "print(df1.shape)\n",
        "print(df2.shape)\n",
        "#print(df['year'].value_counts())"
      ],
      "metadata": {
        "colab": {
          "base_uri": "https://localhost:8080/"
        },
        "id": "_ro25CbRU_nV",
        "outputId": "45cb8766-89f2-485f-fea0-515e2d8b5fff"
      },
      "execution_count": null,
      "outputs": [
        {
          "output_type": "stream",
          "name": "stdout",
          "text": [
            "(14095, 328)\n",
            "(9809, 309)\n",
            "(4286, 20)\n"
          ]
        }
      ]
    },
    {
      "cell_type": "code",
      "source": [
        "df.head()\n",
        "# Check for missing values\n",
        "missing_values = df['year'].isnull().sum()\n",
        "print(\"Missing values in each column:\")\n",
        "print(missing_values)\n",
        "\n"
      ],
      "metadata": {
        "colab": {
          "base_uri": "https://localhost:8080/"
        },
        "id": "eTp4pkbmamiY",
        "outputId": "f53616e8-3630-4fb1-fa64-a75a7d0ba417"
      },
      "execution_count": null,
      "outputs": [
        {
          "output_type": "stream",
          "name": "stdout",
          "text": [
            "Missing values in each column:\n",
            "4286\n"
          ]
        }
      ]
    },
    {
      "cell_type": "code",
      "source": [
        "#Replacing None with missing, which is more relevant for my purposes here\n",
        "df['country'] = df['country'].fillna('None')\n",
        "df['Country Concerned'] = df['Country Concerned'].fillna('None')\n",
        "\n",
        "#Getting rid of extraneous spaces before and after name\n",
        "df['country'] = df['country'].str.strip()\n",
        "\n",
        "# Drop rows where 'Country' contains \"Understood\"\n",
        "df = df[~df['country'].str.contains(\"Understood\", case=False, na=False)]"
      ],
      "metadata": {
        "id": "YnMY-75QtXGv"
      },
      "execution_count": null,
      "outputs": []
    },
    {
      "cell_type": "code",
      "source": [
        "#Fixing up country names when GPT identifies more than one country being criticized, with the country names separated by commas\n",
        "\n",
        "#Duplicating observations when there are multiple countries condemned so that each country condemned is counted\n",
        "df['comma_count'] = df['country'].fillna('').str.count(',')+1\n",
        "print(df['comma_count'].value_counts())\n",
        "\n",
        "#subdividing when there is a comma\n",
        "df['country1'] = df['country'].str.split(\", \").str[0]\n",
        "df['country2'] = df['country'].str.split(\", \").str[1]\n",
        "df['country3'] = df['country'].str.split(\", \").str[2]\n",
        "df['country4'] = df['country'].str.split(\", \").str[3]\n",
        "df['country5'] = df['country'].str.split(\", \").str[4]\n",
        "\n",
        "df['country1'] = df['country1'].str.strip()\n",
        "# Check equality between the two columns\n",
        "equal_count = (df['country'] == df['country1']).sum()\n",
        "unequal_count = (df['country'] != df['country1']).sum()\n",
        "\n",
        "# Display the results\n",
        "print(f\"Equal count: {equal_count}\")\n",
        "print(f\"Unequal count: {unequal_count}\")\n",
        "\n",
        "# Filter rows where 'column_a' is not equal to 'column_b'\n",
        "unequal_rows = df[df['country'] != df['country1']]\n",
        "equal_rows = df[df['country'] == df['country1']]\n",
        "\n",
        "\n"
      ],
      "metadata": {
        "colab": {
          "base_uri": "https://localhost:8080/"
        },
        "id": "iiOuA1JPPr6q",
        "outputId": "6464f9a3-3b93-43ba-da31-122da5d0c87b"
      },
      "execution_count": null,
      "outputs": [
        {
          "output_type": "stream",
          "name": "stdout",
          "text": [
            "comma_count\n",
            "1    14000\n",
            "2       30\n",
            "3       11\n",
            "5        3\n",
            "4        2\n",
            "Name: count, dtype: int64\n",
            "Equal count: 14000\n",
            "Unequal count: 46\n"
          ]
        }
      ]
    },
    {
      "cell_type": "code",
      "source": [
        "#Working with the unequal_count dataframe, which has all the observations with multiple countries being condemned\n",
        "print(unequal_rows['comma_count'].value_counts())\n",
        "print(unequal_rows.shape)\n",
        "#Duplicating observations by the number of commas\n",
        "unequal_rows = unequal_rows.loc[unequal_rows.index.repeat(unequal_rows['comma_count'])].reset_index(drop=True)\n",
        "unequal_rows['order'] = unequal_rows.groupby('unres').cumcount() + 1\n",
        "print(unequal_rows.shape)\n",
        "\n",
        "\n"
      ],
      "metadata": {
        "colab": {
          "base_uri": "https://localhost:8080/"
        },
        "id": "h8fv2sUtKhhy",
        "outputId": "d0141adc-6b22-499e-9fb0-9829dd24185d",
        "collapsed": true
      },
      "execution_count": null,
      "outputs": [
        {
          "output_type": "stream",
          "name": "stdout",
          "text": [
            "comma_count\n",
            "2    30\n",
            "3    11\n",
            "5     3\n",
            "4     2\n",
            "Name: count, dtype: int64\n",
            "(46, 334)\n",
            "(116, 335)\n"
          ]
        }
      ]
    },
    {
      "cell_type": "code",
      "source": [
        "#Creating a new variable, country, that equals country1 country2, country3 or country4, based on the value of order\n",
        "# Define conditions and corresponding values for n\n",
        "conditions = [\n",
        "    (unequal_rows['order'] == 1),\n",
        "    (unequal_rows['order'] == 2),\n",
        "    (unequal_rows['order'] == 3),\n",
        "    (unequal_rows['order'] == 4),\n",
        "    (unequal_rows['order'] == 5)\n",
        "]\n",
        "values = [unequal_rows['country1'], unequal_rows['country2'], unequal_rows['country3'], unequal_rows['country4'], unequal_rows['country5'] ]\n",
        "\n",
        "# Create the new variable n\n",
        "unequal_rows['country'] = np.select(conditions, values, default=np.nan)\n"
      ],
      "metadata": {
        "id": "Nt__GF2jUXbN"
      },
      "execution_count": null,
      "outputs": []
    },
    {
      "cell_type": "code",
      "source": [
        "unequal_rows[['country', 'country1', 'country2', 'country3', 'order']].head(20)"
      ],
      "metadata": {
        "colab": {
          "base_uri": "https://localhost:8080/",
          "height": 676
        },
        "id": "rLQ1D1KSX9Bh",
        "outputId": "1673f417-0985-4700-8d3d-f48e8c3f5e64",
        "collapsed": true
      },
      "execution_count": null,
      "outputs": [
        {
          "output_type": "execute_result",
          "data": {
            "text/plain": [
              "                                              country  \\\n",
              "0                                             Comoros   \n",
              "1                               Sao Tome and Principe   \n",
              "2                                             Somalia   \n",
              "3                                             Comoros   \n",
              "4                               Sao Tome and Principe   \n",
              "5                                             Somalia   \n",
              "6                                             Comoros   \n",
              "7                               Sao Tome and Principe   \n",
              "8                                             Somalia   \n",
              "9                                             Comoros   \n",
              "10                              Sao Tome and Principe   \n",
              "11                                            Somalia   \n",
              "12                                            Comoros   \n",
              "13                              Sao Tome and Principe   \n",
              "14                                            Somalia   \n",
              "15                                            Comoros   \n",
              "16                              Sao Tome and Principe   \n",
              "17                                            Somalia   \n",
              "18  United Kingdom of Great Britain and Northern I...   \n",
              "19                           United States of America   \n",
              "\n",
              "                                             country1  \\\n",
              "0                                             Comoros   \n",
              "1                                             Comoros   \n",
              "2                                             Comoros   \n",
              "3                                             Comoros   \n",
              "4                                             Comoros   \n",
              "5                                             Comoros   \n",
              "6                                             Comoros   \n",
              "7                                             Comoros   \n",
              "8                                             Comoros   \n",
              "9                                             Comoros   \n",
              "10                                            Comoros   \n",
              "11                                            Comoros   \n",
              "12                                            Comoros   \n",
              "13                                            Comoros   \n",
              "14                                            Comoros   \n",
              "15                                            Comoros   \n",
              "16                                            Comoros   \n",
              "17                                            Comoros   \n",
              "18  United Kingdom of Great Britain and Northern I...   \n",
              "19  United Kingdom of Great Britain and Northern I...   \n",
              "\n",
              "                    country2 country3  order  \n",
              "0      Sao Tome and Principe  Somalia    1.0  \n",
              "1      Sao Tome and Principe  Somalia    2.0  \n",
              "2      Sao Tome and Principe  Somalia    3.0  \n",
              "3      Sao Tome and Principe  Somalia    1.0  \n",
              "4      Sao Tome and Principe  Somalia    2.0  \n",
              "5      Sao Tome and Principe  Somalia    3.0  \n",
              "6      Sao Tome and Principe  Somalia    1.0  \n",
              "7      Sao Tome and Principe  Somalia    2.0  \n",
              "8      Sao Tome and Principe  Somalia    3.0  \n",
              "9      Sao Tome and Principe  Somalia    1.0  \n",
              "10     Sao Tome and Principe  Somalia    2.0  \n",
              "11     Sao Tome and Principe  Somalia    3.0  \n",
              "12     Sao Tome and Principe  Somalia    1.0  \n",
              "13     Sao Tome and Principe  Somalia    2.0  \n",
              "14     Sao Tome and Principe  Somalia    3.0  \n",
              "15     Sao Tome and Principe  Somalia    1.0  \n",
              "16     Sao Tome and Principe  Somalia    2.0  \n",
              "17     Sao Tome and Principe  Somalia    3.0  \n",
              "18  United States of America      NaN    1.0  \n",
              "19  United States of America      NaN    2.0  "
            ],
            "text/html": [
              "\n",
              "  <div id=\"df-9fb8e5c6-c864-4472-bea5-a3554b21679a\" class=\"colab-df-container\">\n",
              "    <div>\n",
              "<style scoped>\n",
              "    .dataframe tbody tr th:only-of-type {\n",
              "        vertical-align: middle;\n",
              "    }\n",
              "\n",
              "    .dataframe tbody tr th {\n",
              "        vertical-align: top;\n",
              "    }\n",
              "\n",
              "    .dataframe thead th {\n",
              "        text-align: right;\n",
              "    }\n",
              "</style>\n",
              "<table border=\"1\" class=\"dataframe\">\n",
              "  <thead>\n",
              "    <tr style=\"text-align: right;\">\n",
              "      <th></th>\n",
              "      <th>country</th>\n",
              "      <th>country1</th>\n",
              "      <th>country2</th>\n",
              "      <th>country3</th>\n",
              "      <th>order</th>\n",
              "    </tr>\n",
              "  </thead>\n",
              "  <tbody>\n",
              "    <tr>\n",
              "      <th>0</th>\n",
              "      <td>Comoros</td>\n",
              "      <td>Comoros</td>\n",
              "      <td>Sao Tome and Principe</td>\n",
              "      <td>Somalia</td>\n",
              "      <td>1.0</td>\n",
              "    </tr>\n",
              "    <tr>\n",
              "      <th>1</th>\n",
              "      <td>Sao Tome and Principe</td>\n",
              "      <td>Comoros</td>\n",
              "      <td>Sao Tome and Principe</td>\n",
              "      <td>Somalia</td>\n",
              "      <td>2.0</td>\n",
              "    </tr>\n",
              "    <tr>\n",
              "      <th>2</th>\n",
              "      <td>Somalia</td>\n",
              "      <td>Comoros</td>\n",
              "      <td>Sao Tome and Principe</td>\n",
              "      <td>Somalia</td>\n",
              "      <td>3.0</td>\n",
              "    </tr>\n",
              "    <tr>\n",
              "      <th>3</th>\n",
              "      <td>Comoros</td>\n",
              "      <td>Comoros</td>\n",
              "      <td>Sao Tome and Principe</td>\n",
              "      <td>Somalia</td>\n",
              "      <td>1.0</td>\n",
              "    </tr>\n",
              "    <tr>\n",
              "      <th>4</th>\n",
              "      <td>Sao Tome and Principe</td>\n",
              "      <td>Comoros</td>\n",
              "      <td>Sao Tome and Principe</td>\n",
              "      <td>Somalia</td>\n",
              "      <td>2.0</td>\n",
              "    </tr>\n",
              "    <tr>\n",
              "      <th>5</th>\n",
              "      <td>Somalia</td>\n",
              "      <td>Comoros</td>\n",
              "      <td>Sao Tome and Principe</td>\n",
              "      <td>Somalia</td>\n",
              "      <td>3.0</td>\n",
              "    </tr>\n",
              "    <tr>\n",
              "      <th>6</th>\n",
              "      <td>Comoros</td>\n",
              "      <td>Comoros</td>\n",
              "      <td>Sao Tome and Principe</td>\n",
              "      <td>Somalia</td>\n",
              "      <td>1.0</td>\n",
              "    </tr>\n",
              "    <tr>\n",
              "      <th>7</th>\n",
              "      <td>Sao Tome and Principe</td>\n",
              "      <td>Comoros</td>\n",
              "      <td>Sao Tome and Principe</td>\n",
              "      <td>Somalia</td>\n",
              "      <td>2.0</td>\n",
              "    </tr>\n",
              "    <tr>\n",
              "      <th>8</th>\n",
              "      <td>Somalia</td>\n",
              "      <td>Comoros</td>\n",
              "      <td>Sao Tome and Principe</td>\n",
              "      <td>Somalia</td>\n",
              "      <td>3.0</td>\n",
              "    </tr>\n",
              "    <tr>\n",
              "      <th>9</th>\n",
              "      <td>Comoros</td>\n",
              "      <td>Comoros</td>\n",
              "      <td>Sao Tome and Principe</td>\n",
              "      <td>Somalia</td>\n",
              "      <td>1.0</td>\n",
              "    </tr>\n",
              "    <tr>\n",
              "      <th>10</th>\n",
              "      <td>Sao Tome and Principe</td>\n",
              "      <td>Comoros</td>\n",
              "      <td>Sao Tome and Principe</td>\n",
              "      <td>Somalia</td>\n",
              "      <td>2.0</td>\n",
              "    </tr>\n",
              "    <tr>\n",
              "      <th>11</th>\n",
              "      <td>Somalia</td>\n",
              "      <td>Comoros</td>\n",
              "      <td>Sao Tome and Principe</td>\n",
              "      <td>Somalia</td>\n",
              "      <td>3.0</td>\n",
              "    </tr>\n",
              "    <tr>\n",
              "      <th>12</th>\n",
              "      <td>Comoros</td>\n",
              "      <td>Comoros</td>\n",
              "      <td>Sao Tome and Principe</td>\n",
              "      <td>Somalia</td>\n",
              "      <td>1.0</td>\n",
              "    </tr>\n",
              "    <tr>\n",
              "      <th>13</th>\n",
              "      <td>Sao Tome and Principe</td>\n",
              "      <td>Comoros</td>\n",
              "      <td>Sao Tome and Principe</td>\n",
              "      <td>Somalia</td>\n",
              "      <td>2.0</td>\n",
              "    </tr>\n",
              "    <tr>\n",
              "      <th>14</th>\n",
              "      <td>Somalia</td>\n",
              "      <td>Comoros</td>\n",
              "      <td>Sao Tome and Principe</td>\n",
              "      <td>Somalia</td>\n",
              "      <td>3.0</td>\n",
              "    </tr>\n",
              "    <tr>\n",
              "      <th>15</th>\n",
              "      <td>Comoros</td>\n",
              "      <td>Comoros</td>\n",
              "      <td>Sao Tome and Principe</td>\n",
              "      <td>Somalia</td>\n",
              "      <td>1.0</td>\n",
              "    </tr>\n",
              "    <tr>\n",
              "      <th>16</th>\n",
              "      <td>Sao Tome and Principe</td>\n",
              "      <td>Comoros</td>\n",
              "      <td>Sao Tome and Principe</td>\n",
              "      <td>Somalia</td>\n",
              "      <td>2.0</td>\n",
              "    </tr>\n",
              "    <tr>\n",
              "      <th>17</th>\n",
              "      <td>Somalia</td>\n",
              "      <td>Comoros</td>\n",
              "      <td>Sao Tome and Principe</td>\n",
              "      <td>Somalia</td>\n",
              "      <td>3.0</td>\n",
              "    </tr>\n",
              "    <tr>\n",
              "      <th>18</th>\n",
              "      <td>United Kingdom of Great Britain and Northern I...</td>\n",
              "      <td>United Kingdom of Great Britain and Northern I...</td>\n",
              "      <td>United States of America</td>\n",
              "      <td>NaN</td>\n",
              "      <td>1.0</td>\n",
              "    </tr>\n",
              "    <tr>\n",
              "      <th>19</th>\n",
              "      <td>United States of America</td>\n",
              "      <td>United Kingdom of Great Britain and Northern I...</td>\n",
              "      <td>United States of America</td>\n",
              "      <td>NaN</td>\n",
              "      <td>2.0</td>\n",
              "    </tr>\n",
              "  </tbody>\n",
              "</table>\n",
              "</div>\n",
              "    <div class=\"colab-df-buttons\">\n",
              "\n",
              "  <div class=\"colab-df-container\">\n",
              "    <button class=\"colab-df-convert\" onclick=\"convertToInteractive('df-9fb8e5c6-c864-4472-bea5-a3554b21679a')\"\n",
              "            title=\"Convert this dataframe to an interactive table.\"\n",
              "            style=\"display:none;\">\n",
              "\n",
              "  <svg xmlns=\"http://www.w3.org/2000/svg\" height=\"24px\" viewBox=\"0 -960 960 960\">\n",
              "    <path d=\"M120-120v-720h720v720H120Zm60-500h600v-160H180v160Zm220 220h160v-160H400v160Zm0 220h160v-160H400v160ZM180-400h160v-160H180v160Zm440 0h160v-160H620v160ZM180-180h160v-160H180v160Zm440 0h160v-160H620v160Z\"/>\n",
              "  </svg>\n",
              "    </button>\n",
              "\n",
              "  <style>\n",
              "    .colab-df-container {\n",
              "      display:flex;\n",
              "      gap: 12px;\n",
              "    }\n",
              "\n",
              "    .colab-df-convert {\n",
              "      background-color: #E8F0FE;\n",
              "      border: none;\n",
              "      border-radius: 50%;\n",
              "      cursor: pointer;\n",
              "      display: none;\n",
              "      fill: #1967D2;\n",
              "      height: 32px;\n",
              "      padding: 0 0 0 0;\n",
              "      width: 32px;\n",
              "    }\n",
              "\n",
              "    .colab-df-convert:hover {\n",
              "      background-color: #E2EBFA;\n",
              "      box-shadow: 0px 1px 2px rgba(60, 64, 67, 0.3), 0px 1px 3px 1px rgba(60, 64, 67, 0.15);\n",
              "      fill: #174EA6;\n",
              "    }\n",
              "\n",
              "    .colab-df-buttons div {\n",
              "      margin-bottom: 4px;\n",
              "    }\n",
              "\n",
              "    [theme=dark] .colab-df-convert {\n",
              "      background-color: #3B4455;\n",
              "      fill: #D2E3FC;\n",
              "    }\n",
              "\n",
              "    [theme=dark] .colab-df-convert:hover {\n",
              "      background-color: #434B5C;\n",
              "      box-shadow: 0px 1px 3px 1px rgba(0, 0, 0, 0.15);\n",
              "      filter: drop-shadow(0px 1px 2px rgba(0, 0, 0, 0.3));\n",
              "      fill: #FFFFFF;\n",
              "    }\n",
              "  </style>\n",
              "\n",
              "    <script>\n",
              "      const buttonEl =\n",
              "        document.querySelector('#df-9fb8e5c6-c864-4472-bea5-a3554b21679a button.colab-df-convert');\n",
              "      buttonEl.style.display =\n",
              "        google.colab.kernel.accessAllowed ? 'block' : 'none';\n",
              "\n",
              "      async function convertToInteractive(key) {\n",
              "        const element = document.querySelector('#df-9fb8e5c6-c864-4472-bea5-a3554b21679a');\n",
              "        const dataTable =\n",
              "          await google.colab.kernel.invokeFunction('convertToInteractive',\n",
              "                                                    [key], {});\n",
              "        if (!dataTable) return;\n",
              "\n",
              "        const docLinkHtml = 'Like what you see? Visit the ' +\n",
              "          '<a target=\"_blank\" href=https://colab.research.google.com/notebooks/data_table.ipynb>data table notebook</a>'\n",
              "          + ' to learn more about interactive tables.';\n",
              "        element.innerHTML = '';\n",
              "        dataTable['output_type'] = 'display_data';\n",
              "        await google.colab.output.renderOutput(dataTable, element);\n",
              "        const docLink = document.createElement('div');\n",
              "        docLink.innerHTML = docLinkHtml;\n",
              "        element.appendChild(docLink);\n",
              "      }\n",
              "    </script>\n",
              "  </div>\n",
              "\n",
              "\n",
              "<div id=\"df-89b77035-1650-4812-b3d6-6f7ebb0f24f4\">\n",
              "  <button class=\"colab-df-quickchart\" onclick=\"quickchart('df-89b77035-1650-4812-b3d6-6f7ebb0f24f4')\"\n",
              "            title=\"Suggest charts\"\n",
              "            style=\"display:none;\">\n",
              "\n",
              "<svg xmlns=\"http://www.w3.org/2000/svg\" height=\"24px\"viewBox=\"0 0 24 24\"\n",
              "     width=\"24px\">\n",
              "    <g>\n",
              "        <path d=\"M19 3H5c-1.1 0-2 .9-2 2v14c0 1.1.9 2 2 2h14c1.1 0 2-.9 2-2V5c0-1.1-.9-2-2-2zM9 17H7v-7h2v7zm4 0h-2V7h2v10zm4 0h-2v-4h2v4z\"/>\n",
              "    </g>\n",
              "</svg>\n",
              "  </button>\n",
              "\n",
              "<style>\n",
              "  .colab-df-quickchart {\n",
              "      --bg-color: #E8F0FE;\n",
              "      --fill-color: #1967D2;\n",
              "      --hover-bg-color: #E2EBFA;\n",
              "      --hover-fill-color: #174EA6;\n",
              "      --disabled-fill-color: #AAA;\n",
              "      --disabled-bg-color: #DDD;\n",
              "  }\n",
              "\n",
              "  [theme=dark] .colab-df-quickchart {\n",
              "      --bg-color: #3B4455;\n",
              "      --fill-color: #D2E3FC;\n",
              "      --hover-bg-color: #434B5C;\n",
              "      --hover-fill-color: #FFFFFF;\n",
              "      --disabled-bg-color: #3B4455;\n",
              "      --disabled-fill-color: #666;\n",
              "  }\n",
              "\n",
              "  .colab-df-quickchart {\n",
              "    background-color: var(--bg-color);\n",
              "    border: none;\n",
              "    border-radius: 50%;\n",
              "    cursor: pointer;\n",
              "    display: none;\n",
              "    fill: var(--fill-color);\n",
              "    height: 32px;\n",
              "    padding: 0;\n",
              "    width: 32px;\n",
              "  }\n",
              "\n",
              "  .colab-df-quickchart:hover {\n",
              "    background-color: var(--hover-bg-color);\n",
              "    box-shadow: 0 1px 2px rgba(60, 64, 67, 0.3), 0 1px 3px 1px rgba(60, 64, 67, 0.15);\n",
              "    fill: var(--button-hover-fill-color);\n",
              "  }\n",
              "\n",
              "  .colab-df-quickchart-complete:disabled,\n",
              "  .colab-df-quickchart-complete:disabled:hover {\n",
              "    background-color: var(--disabled-bg-color);\n",
              "    fill: var(--disabled-fill-color);\n",
              "    box-shadow: none;\n",
              "  }\n",
              "\n",
              "  .colab-df-spinner {\n",
              "    border: 2px solid var(--fill-color);\n",
              "    border-color: transparent;\n",
              "    border-bottom-color: var(--fill-color);\n",
              "    animation:\n",
              "      spin 1s steps(1) infinite;\n",
              "  }\n",
              "\n",
              "  @keyframes spin {\n",
              "    0% {\n",
              "      border-color: transparent;\n",
              "      border-bottom-color: var(--fill-color);\n",
              "      border-left-color: var(--fill-color);\n",
              "    }\n",
              "    20% {\n",
              "      border-color: transparent;\n",
              "      border-left-color: var(--fill-color);\n",
              "      border-top-color: var(--fill-color);\n",
              "    }\n",
              "    30% {\n",
              "      border-color: transparent;\n",
              "      border-left-color: var(--fill-color);\n",
              "      border-top-color: var(--fill-color);\n",
              "      border-right-color: var(--fill-color);\n",
              "    }\n",
              "    40% {\n",
              "      border-color: transparent;\n",
              "      border-right-color: var(--fill-color);\n",
              "      border-top-color: var(--fill-color);\n",
              "    }\n",
              "    60% {\n",
              "      border-color: transparent;\n",
              "      border-right-color: var(--fill-color);\n",
              "    }\n",
              "    80% {\n",
              "      border-color: transparent;\n",
              "      border-right-color: var(--fill-color);\n",
              "      border-bottom-color: var(--fill-color);\n",
              "    }\n",
              "    90% {\n",
              "      border-color: transparent;\n",
              "      border-bottom-color: var(--fill-color);\n",
              "    }\n",
              "  }\n",
              "</style>\n",
              "\n",
              "  <script>\n",
              "    async function quickchart(key) {\n",
              "      const quickchartButtonEl =\n",
              "        document.querySelector('#' + key + ' button');\n",
              "      quickchartButtonEl.disabled = true;  // To prevent multiple clicks.\n",
              "      quickchartButtonEl.classList.add('colab-df-spinner');\n",
              "      try {\n",
              "        const charts = await google.colab.kernel.invokeFunction(\n",
              "            'suggestCharts', [key], {});\n",
              "      } catch (error) {\n",
              "        console.error('Error during call to suggestCharts:', error);\n",
              "      }\n",
              "      quickchartButtonEl.classList.remove('colab-df-spinner');\n",
              "      quickchartButtonEl.classList.add('colab-df-quickchart-complete');\n",
              "    }\n",
              "    (() => {\n",
              "      let quickchartButtonEl =\n",
              "        document.querySelector('#df-89b77035-1650-4812-b3d6-6f7ebb0f24f4 button');\n",
              "      quickchartButtonEl.style.display =\n",
              "        google.colab.kernel.accessAllowed ? 'block' : 'none';\n",
              "    })();\n",
              "  </script>\n",
              "</div>\n",
              "\n",
              "    </div>\n",
              "  </div>\n"
            ],
            "application/vnd.google.colaboratory.intrinsic+json": {
              "type": "dataframe",
              "summary": "{\n  \"name\": \"unequal_rows[['country', 'country1', 'country2', 'country3', 'order']]\",\n  \"rows\": 20,\n  \"fields\": [\n    {\n      \"column\": \"country\",\n      \"properties\": {\n        \"dtype\": \"category\",\n        \"num_unique_values\": 5,\n        \"samples\": [\n          \"Sao Tome and Principe\",\n          \"United States of America\",\n          \"Somalia\"\n        ],\n        \"semantic_type\": \"\",\n        \"description\": \"\"\n      }\n    },\n    {\n      \"column\": \"country1\",\n      \"properties\": {\n        \"dtype\": \"category\",\n        \"num_unique_values\": 2,\n        \"samples\": [\n          \"United Kingdom of Great Britain and Northern Ireland\",\n          \"Comoros\"\n        ],\n        \"semantic_type\": \"\",\n        \"description\": \"\"\n      }\n    },\n    {\n      \"column\": \"country2\",\n      \"properties\": {\n        \"dtype\": \"category\",\n        \"num_unique_values\": 2,\n        \"samples\": [\n          \"United States of America\",\n          \"Sao Tome and Principe\"\n        ],\n        \"semantic_type\": \"\",\n        \"description\": \"\"\n      }\n    },\n    {\n      \"column\": \"country3\",\n      \"properties\": {\n        \"dtype\": \"category\",\n        \"num_unique_values\": 1,\n        \"samples\": [\n          \"Somalia\"\n        ],\n        \"semantic_type\": \"\",\n        \"description\": \"\"\n      }\n    },\n    {\n      \"column\": \"order\",\n      \"properties\": {\n        \"dtype\": \"number\",\n        \"std\": 0.8255779474818965,\n        \"min\": 1.0,\n        \"max\": 3.0,\n        \"num_unique_values\": 3,\n        \"samples\": [\n          1.0\n        ],\n        \"semantic_type\": \"\",\n        \"description\": \"\"\n      }\n    }\n  ]\n}"
            }
          },
          "metadata": {},
          "execution_count": 57
        }
      ]
    },
    {
      "cell_type": "code",
      "source": [
        "#Combinging the data that has just been manipulated from the data frame unequal rows with the main data from equal rows.\n",
        "df = pd.concat([equal_rows, unequal_rows], ignore_index=True)"
      ],
      "metadata": {
        "id": "HmzyAdyEZ_iS"
      },
      "execution_count": null,
      "outputs": []
    },
    {
      "cell_type": "code",
      "source": [
        "#Fixing country names\n",
        "\n",
        "df['country'] = df['country'].replace(\"Russian Federation\", \"Russia\")\n",
        "df['country'] = df['country'].replace(\"Islamic Republic of Iran\", \"Iran\")\n",
        "df['country'] = df['country'].replace(\"Republic of Korea\", \"South Korea\")\n",
        "df['country'] = df['country'].replace(\"Democratic People’s Republic of Korea\", \"Democratic People's Republic of Korea\")\n",
        "\n",
        "df['country'] = df['country'].replace(\"Republic of Moldova\", \"Moldova\")\n",
        "df['country'] = df['country'].replace(\"United States of America\", \"United States\")\n",
        "df['country'] = df['country'].replace(\"Syrian Arab Republic\", \"Syria\")\n",
        "df['country'] = df['country'].replace(\"United Kingdom of Great Britain and Northern Ireland\", \"United Kingdom\")\n",
        "df['country'] = df['country'].replace(\"Taliban\", \"Afghanistan\")\n",
        "df['country'] = df['country'].replace(\"Democratic Peoples Republic of Korea\", \"North Korea\")\n",
        "df['country'] = df['country'].replace(\"Federal Republic of Yugoslavia\", \"Serbia\")\n",
        "df['country'] = df['country'].replace(\"Serbia and Montenegro\", \"Serbia\")\n",
        "df['country'] = df['country'].replace(\"Federal Republic of Yugoslavia (Serbia and Montenegro)\", \"Serbia\")\n",
        "df['country'] = df['country'].replace(\"Côte d'Ivoire\", \"Cote d'Ivoire\")\n",
        "df['country'] = df['country'].replace(\"Côte d’Ivoire\", \"Cote d'Ivoire\")\n",
        "df['country'] = df['country'].replace(\"South Africa and Namibia\", \"South Africa\")\n",
        "df['country'] = df['country'].replace(\"Libya Arab Jamahiriya\", \"Libya\")"
      ],
      "metadata": {
        "id": "O4tJMgQxWZXP"
      },
      "execution_count": null,
      "outputs": []
    },
    {
      "cell_type": "code",
      "source": [
        "#I don't want \"None\" to be a country\n",
        "df['country'] = df['country'].replace(\"None\", np.nan)\n",
        "\n"
      ],
      "metadata": {
        "id": "BGK2YBKAuouD"
      },
      "execution_count": null,
      "outputs": []
    },
    {
      "cell_type": "code",
      "source": [
        "#Fixing the year variable for the data originally from Mesquita\n",
        "# Replace missing 'year' values with 1945 + 'session_reg'\n",
        "df['year'] = df['year'].fillna(1945 + df['session_reg'])\n",
        "\n"
      ],
      "metadata": {
        "id": "4NI7AC16ZXon"
      },
      "execution_count": null,
      "outputs": []
    },
    {
      "cell_type": "code",
      "source": [
        "# Count the number of resolutions criticizing each country in each year, adding up the observations where there are multiple countries\n",
        "resolution_counts = df.groupby(['country', 'year']).size().reset_index(name='count')\n",
        "resolution_counts.head()\n",
        "\n",
        "\n"
      ],
      "metadata": {
        "id": "sDo8ON2XSMPa",
        "colab": {
          "base_uri": "https://localhost:8080/",
          "height": 206
        },
        "outputId": "41072fbc-feb3-48d0-dea2-7db363694834"
      },
      "execution_count": null,
      "outputs": [
        {
          "output_type": "execute_result",
          "data": {
            "text/plain": [
              "       country    year  count\n",
              "0  Afghanistan  1985.0      1\n",
              "1  Afghanistan  1986.0      1\n",
              "2  Afghanistan  1987.0      1\n",
              "3  Afghanistan  1988.0      1\n",
              "4  Afghanistan  1989.0      1"
            ],
            "text/html": [
              "\n",
              "  <div id=\"df-8f795352-67df-4fc7-94ed-1e7b5d0ccd53\" class=\"colab-df-container\">\n",
              "    <div>\n",
              "<style scoped>\n",
              "    .dataframe tbody tr th:only-of-type {\n",
              "        vertical-align: middle;\n",
              "    }\n",
              "\n",
              "    .dataframe tbody tr th {\n",
              "        vertical-align: top;\n",
              "    }\n",
              "\n",
              "    .dataframe thead th {\n",
              "        text-align: right;\n",
              "    }\n",
              "</style>\n",
              "<table border=\"1\" class=\"dataframe\">\n",
              "  <thead>\n",
              "    <tr style=\"text-align: right;\">\n",
              "      <th></th>\n",
              "      <th>country</th>\n",
              "      <th>year</th>\n",
              "      <th>count</th>\n",
              "    </tr>\n",
              "  </thead>\n",
              "  <tbody>\n",
              "    <tr>\n",
              "      <th>0</th>\n",
              "      <td>Afghanistan</td>\n",
              "      <td>1985.0</td>\n",
              "      <td>1</td>\n",
              "    </tr>\n",
              "    <tr>\n",
              "      <th>1</th>\n",
              "      <td>Afghanistan</td>\n",
              "      <td>1986.0</td>\n",
              "      <td>1</td>\n",
              "    </tr>\n",
              "    <tr>\n",
              "      <th>2</th>\n",
              "      <td>Afghanistan</td>\n",
              "      <td>1987.0</td>\n",
              "      <td>1</td>\n",
              "    </tr>\n",
              "    <tr>\n",
              "      <th>3</th>\n",
              "      <td>Afghanistan</td>\n",
              "      <td>1988.0</td>\n",
              "      <td>1</td>\n",
              "    </tr>\n",
              "    <tr>\n",
              "      <th>4</th>\n",
              "      <td>Afghanistan</td>\n",
              "      <td>1989.0</td>\n",
              "      <td>1</td>\n",
              "    </tr>\n",
              "  </tbody>\n",
              "</table>\n",
              "</div>\n",
              "    <div class=\"colab-df-buttons\">\n",
              "\n",
              "  <div class=\"colab-df-container\">\n",
              "    <button class=\"colab-df-convert\" onclick=\"convertToInteractive('df-8f795352-67df-4fc7-94ed-1e7b5d0ccd53')\"\n",
              "            title=\"Convert this dataframe to an interactive table.\"\n",
              "            style=\"display:none;\">\n",
              "\n",
              "  <svg xmlns=\"http://www.w3.org/2000/svg\" height=\"24px\" viewBox=\"0 -960 960 960\">\n",
              "    <path d=\"M120-120v-720h720v720H120Zm60-500h600v-160H180v160Zm220 220h160v-160H400v160Zm0 220h160v-160H400v160ZM180-400h160v-160H180v160Zm440 0h160v-160H620v160ZM180-180h160v-160H180v160Zm440 0h160v-160H620v160Z\"/>\n",
              "  </svg>\n",
              "    </button>\n",
              "\n",
              "  <style>\n",
              "    .colab-df-container {\n",
              "      display:flex;\n",
              "      gap: 12px;\n",
              "    }\n",
              "\n",
              "    .colab-df-convert {\n",
              "      background-color: #E8F0FE;\n",
              "      border: none;\n",
              "      border-radius: 50%;\n",
              "      cursor: pointer;\n",
              "      display: none;\n",
              "      fill: #1967D2;\n",
              "      height: 32px;\n",
              "      padding: 0 0 0 0;\n",
              "      width: 32px;\n",
              "    }\n",
              "\n",
              "    .colab-df-convert:hover {\n",
              "      background-color: #E2EBFA;\n",
              "      box-shadow: 0px 1px 2px rgba(60, 64, 67, 0.3), 0px 1px 3px 1px rgba(60, 64, 67, 0.15);\n",
              "      fill: #174EA6;\n",
              "    }\n",
              "\n",
              "    .colab-df-buttons div {\n",
              "      margin-bottom: 4px;\n",
              "    }\n",
              "\n",
              "    [theme=dark] .colab-df-convert {\n",
              "      background-color: #3B4455;\n",
              "      fill: #D2E3FC;\n",
              "    }\n",
              "\n",
              "    [theme=dark] .colab-df-convert:hover {\n",
              "      background-color: #434B5C;\n",
              "      box-shadow: 0px 1px 3px 1px rgba(0, 0, 0, 0.15);\n",
              "      filter: drop-shadow(0px 1px 2px rgba(0, 0, 0, 0.3));\n",
              "      fill: #FFFFFF;\n",
              "    }\n",
              "  </style>\n",
              "\n",
              "    <script>\n",
              "      const buttonEl =\n",
              "        document.querySelector('#df-8f795352-67df-4fc7-94ed-1e7b5d0ccd53 button.colab-df-convert');\n",
              "      buttonEl.style.display =\n",
              "        google.colab.kernel.accessAllowed ? 'block' : 'none';\n",
              "\n",
              "      async function convertToInteractive(key) {\n",
              "        const element = document.querySelector('#df-8f795352-67df-4fc7-94ed-1e7b5d0ccd53');\n",
              "        const dataTable =\n",
              "          await google.colab.kernel.invokeFunction('convertToInteractive',\n",
              "                                                    [key], {});\n",
              "        if (!dataTable) return;\n",
              "\n",
              "        const docLinkHtml = 'Like what you see? Visit the ' +\n",
              "          '<a target=\"_blank\" href=https://colab.research.google.com/notebooks/data_table.ipynb>data table notebook</a>'\n",
              "          + ' to learn more about interactive tables.';\n",
              "        element.innerHTML = '';\n",
              "        dataTable['output_type'] = 'display_data';\n",
              "        await google.colab.output.renderOutput(dataTable, element);\n",
              "        const docLink = document.createElement('div');\n",
              "        docLink.innerHTML = docLinkHtml;\n",
              "        element.appendChild(docLink);\n",
              "      }\n",
              "    </script>\n",
              "  </div>\n",
              "\n",
              "\n",
              "<div id=\"df-696cc014-ecca-45f1-9f98-0bc0adf94c8f\">\n",
              "  <button class=\"colab-df-quickchart\" onclick=\"quickchart('df-696cc014-ecca-45f1-9f98-0bc0adf94c8f')\"\n",
              "            title=\"Suggest charts\"\n",
              "            style=\"display:none;\">\n",
              "\n",
              "<svg xmlns=\"http://www.w3.org/2000/svg\" height=\"24px\"viewBox=\"0 0 24 24\"\n",
              "     width=\"24px\">\n",
              "    <g>\n",
              "        <path d=\"M19 3H5c-1.1 0-2 .9-2 2v14c0 1.1.9 2 2 2h14c1.1 0 2-.9 2-2V5c0-1.1-.9-2-2-2zM9 17H7v-7h2v7zm4 0h-2V7h2v10zm4 0h-2v-4h2v4z\"/>\n",
              "    </g>\n",
              "</svg>\n",
              "  </button>\n",
              "\n",
              "<style>\n",
              "  .colab-df-quickchart {\n",
              "      --bg-color: #E8F0FE;\n",
              "      --fill-color: #1967D2;\n",
              "      --hover-bg-color: #E2EBFA;\n",
              "      --hover-fill-color: #174EA6;\n",
              "      --disabled-fill-color: #AAA;\n",
              "      --disabled-bg-color: #DDD;\n",
              "  }\n",
              "\n",
              "  [theme=dark] .colab-df-quickchart {\n",
              "      --bg-color: #3B4455;\n",
              "      --fill-color: #D2E3FC;\n",
              "      --hover-bg-color: #434B5C;\n",
              "      --hover-fill-color: #FFFFFF;\n",
              "      --disabled-bg-color: #3B4455;\n",
              "      --disabled-fill-color: #666;\n",
              "  }\n",
              "\n",
              "  .colab-df-quickchart {\n",
              "    background-color: var(--bg-color);\n",
              "    border: none;\n",
              "    border-radius: 50%;\n",
              "    cursor: pointer;\n",
              "    display: none;\n",
              "    fill: var(--fill-color);\n",
              "    height: 32px;\n",
              "    padding: 0;\n",
              "    width: 32px;\n",
              "  }\n",
              "\n",
              "  .colab-df-quickchart:hover {\n",
              "    background-color: var(--hover-bg-color);\n",
              "    box-shadow: 0 1px 2px rgba(60, 64, 67, 0.3), 0 1px 3px 1px rgba(60, 64, 67, 0.15);\n",
              "    fill: var(--button-hover-fill-color);\n",
              "  }\n",
              "\n",
              "  .colab-df-quickchart-complete:disabled,\n",
              "  .colab-df-quickchart-complete:disabled:hover {\n",
              "    background-color: var(--disabled-bg-color);\n",
              "    fill: var(--disabled-fill-color);\n",
              "    box-shadow: none;\n",
              "  }\n",
              "\n",
              "  .colab-df-spinner {\n",
              "    border: 2px solid var(--fill-color);\n",
              "    border-color: transparent;\n",
              "    border-bottom-color: var(--fill-color);\n",
              "    animation:\n",
              "      spin 1s steps(1) infinite;\n",
              "  }\n",
              "\n",
              "  @keyframes spin {\n",
              "    0% {\n",
              "      border-color: transparent;\n",
              "      border-bottom-color: var(--fill-color);\n",
              "      border-left-color: var(--fill-color);\n",
              "    }\n",
              "    20% {\n",
              "      border-color: transparent;\n",
              "      border-left-color: var(--fill-color);\n",
              "      border-top-color: var(--fill-color);\n",
              "    }\n",
              "    30% {\n",
              "      border-color: transparent;\n",
              "      border-left-color: var(--fill-color);\n",
              "      border-top-color: var(--fill-color);\n",
              "      border-right-color: var(--fill-color);\n",
              "    }\n",
              "    40% {\n",
              "      border-color: transparent;\n",
              "      border-right-color: var(--fill-color);\n",
              "      border-top-color: var(--fill-color);\n",
              "    }\n",
              "    60% {\n",
              "      border-color: transparent;\n",
              "      border-right-color: var(--fill-color);\n",
              "    }\n",
              "    80% {\n",
              "      border-color: transparent;\n",
              "      border-right-color: var(--fill-color);\n",
              "      border-bottom-color: var(--fill-color);\n",
              "    }\n",
              "    90% {\n",
              "      border-color: transparent;\n",
              "      border-bottom-color: var(--fill-color);\n",
              "    }\n",
              "  }\n",
              "</style>\n",
              "\n",
              "  <script>\n",
              "    async function quickchart(key) {\n",
              "      const quickchartButtonEl =\n",
              "        document.querySelector('#' + key + ' button');\n",
              "      quickchartButtonEl.disabled = true;  // To prevent multiple clicks.\n",
              "      quickchartButtonEl.classList.add('colab-df-spinner');\n",
              "      try {\n",
              "        const charts = await google.colab.kernel.invokeFunction(\n",
              "            'suggestCharts', [key], {});\n",
              "      } catch (error) {\n",
              "        console.error('Error during call to suggestCharts:', error);\n",
              "      }\n",
              "      quickchartButtonEl.classList.remove('colab-df-spinner');\n",
              "      quickchartButtonEl.classList.add('colab-df-quickchart-complete');\n",
              "    }\n",
              "    (() => {\n",
              "      let quickchartButtonEl =\n",
              "        document.querySelector('#df-696cc014-ecca-45f1-9f98-0bc0adf94c8f button');\n",
              "      quickchartButtonEl.style.display =\n",
              "        google.colab.kernel.accessAllowed ? 'block' : 'none';\n",
              "    })();\n",
              "  </script>\n",
              "</div>\n",
              "\n",
              "    </div>\n",
              "  </div>\n"
            ],
            "application/vnd.google.colaboratory.intrinsic+json": {
              "type": "dataframe",
              "variable_name": "resolution_counts",
              "summary": "{\n  \"name\": \"resolution_counts\",\n  \"rows\": 646,\n  \"fields\": [\n    {\n      \"column\": \"country\",\n      \"properties\": {\n        \"dtype\": \"category\",\n        \"num_unique_values\": 65,\n        \"samples\": [\n          \"Sudan\",\n          \"United Kingdom\",\n          \"Afghanistan\"\n        ],\n        \"semantic_type\": \"\",\n        \"description\": \"\"\n      }\n    },\n    {\n      \"column\": \"year\",\n      \"properties\": {\n        \"dtype\": \"number\",\n        \"std\": 12.268703037868564,\n        \"min\": 1981.0,\n        \"max\": 2023.0,\n        \"num_unique_values\": 43,\n        \"samples\": [\n          2009.0,\n          2023.0,\n          1982.0\n        ],\n        \"semantic_type\": \"\",\n        \"description\": \"\"\n      }\n    },\n    {\n      \"column\": \"count\",\n      \"properties\": {\n        \"dtype\": \"number\",\n        \"std\": 5,\n        \"min\": 1,\n        \"max\": 33,\n        \"num_unique_values\": 29,\n        \"samples\": [\n          8,\n          18,\n          13\n        ],\n        \"semantic_type\": \"\",\n        \"description\": \"\"\n      }\n    }\n  ]\n}"
            }
          },
          "metadata": {},
          "execution_count": 62
        }
      ]
    },
    {
      "cell_type": "code",
      "source": [
        "file_path = '/content/gdrive/MyDrive/UNGA/GPT_resolution_counts.csv'\n",
        "\n",
        "resolution_counts.to_csv(file_path, index=False)"
      ],
      "metadata": {
        "id": "NW7DduvZ_d3q"
      },
      "execution_count": null,
      "outputs": []
    },
    {
      "cell_type": "markdown",
      "source": [
        "#Everything below this deals with having a single observation for each unique resolution, which is generally a waste of time."
      ],
      "metadata": {
        "id": "pvG_xXIQ973l"
      }
    },
    {
      "cell_type": "code",
      "source": [
        "# Create the new variable `res_symbol`\n",
        "df1['resolution_num_short'] = df1['unres'].apply(\n",
        "    lambda x: x[:-1] if x[-1].isalpha() else x\n",
        ")\n",
        "not_equal_df1 = df1[df1['resolution_num_short'] != df1['unres']][['unres', 'resolution_num_short']]\n",
        "not_equal_filtered = not_equal_df1.drop_duplicates(subset='resolution_num_short', keep='first')\n",
        "equal_df1=df1[df1['resolution_num_short'] == df1['unres']]\n",
        "df1_unique=pd.concat([equal_df1,not_equal_filtered])\n",
        "print(df1.shape)\n",
        "print(df1_unique.shape)\n",
        "print(df1['country'].value_counts().head(5))\n",
        "print(df1_unique['country'].value_counts().head(5))\n",
        "\n"
      ],
      "metadata": {
        "colab": {
          "base_uri": "https://localhost:8080/"
        },
        "id": "S0yYIlFIwpe9",
        "outputId": "10fd1d4b-cc3e-4d1a-f675-5953699398d8"
      },
      "execution_count": null,
      "outputs": [
        {
          "output_type": "stream",
          "name": "stdout",
          "text": [
            "(9809, 310)\n",
            "(9096, 310)\n",
            "country\n",
            "Israel                                                  536\n",
            "United States of America                                 87\n",
            "United Kingdom of Great Britain and Northern Ireland     59\n",
            "Democratic People’s Republic of Korea                    49\n",
            "Syria                                                    34\n",
            "Name: count, dtype: int64\n",
            "country\n",
            "Israel                                                  504\n",
            "United States of America                                 83\n",
            "United Kingdom of Great Britain and Northern Ireland     57\n",
            "Democratic People’s Republic of Korea                    49\n",
            "Syria                                                    32\n",
            "Name: count, dtype: int64\n"
          ]
        }
      ]
    },
    {
      "cell_type": "code",
      "source": [
        "# Keep only one observation for each unique 'res_id2_unlet' value to avoid potential double counting of single resolutions with multiple sections\n",
        "df2_unique = df2.drop_duplicates(subset='res_id2_unlet', keep='first')\n",
        "\n",
        "print(df2.shape)\n",
        "print(df2['country'].value_counts().head(5))\n",
        "\n",
        "print(df2_unique.shape)\n",
        "print(df2_unique['country'].value_counts().head(5))"
      ],
      "metadata": {
        "colab": {
          "base_uri": "https://localhost:8080/"
        },
        "id": "xAqB1fdwvliC",
        "outputId": "956c8508-9f29-449c-d23b-9f8b863cfb0e",
        "collapsed": true
      },
      "execution_count": null,
      "outputs": [
        {
          "output_type": "stream",
          "name": "stdout",
          "text": [
            "(4286, 20)\n",
            "country\n",
            "South Africa                318\n",
            "Israel                      298\n",
            "United States of America     55\n",
            "France                       27\n",
            "United Kingdom               23\n",
            "Name: count, dtype: int64\n",
            "(3182, 20)\n",
            "country\n",
            "South Africa                184\n",
            "Israel                       86\n",
            "United States of America     52\n",
            "France                       27\n",
            "United Kingdom               23\n",
            "Name: count, dtype: int64\n"
          ]
        }
      ]
    },
    {
      "cell_type": "code",
      "source": [
        "# Keep only one observation for each unique 'res_id2_unlet' value to avoid potential double counting of single resolutions with multiple sections\n",
        "df2_unique = df2.drop_duplicates(subset='res_id2_unlet', keep='first')\n",
        "print(df2_unique.shape)\n",
        "print(df2_unique['country'].value_counts())"
      ],
      "metadata": {
        "colab": {
          "base_uri": "https://localhost:8080/"
        },
        "id": "8h7UvpD5u97B",
        "outputId": "905f7c86-d2da-49db-fb9f-813d017e964e",
        "collapsed": true
      },
      "execution_count": null,
      "outputs": [
        {
          "output_type": "stream",
          "name": "stdout",
          "text": [
            "(3182, 20)\n",
            "country\n",
            "South Africa                                              184\n",
            "Israel                                                     86\n",
            "United States of America                                   52\n",
            "France                                                     27\n",
            "United Kingdom                                             23\n",
            "United Kingdom of Great Britain and Northern Ireland       21\n",
            "Sudan                                                      17\n",
            "Morocco                                                    13\n",
            "El Salvador                                                12\n",
            "Afghanistan                                                11\n",
            "Iraq                                                       10\n",
            "Chile                                                      10\n",
            "Ethiopia                                                    9\n",
            "Haiti                                                       9\n",
            "Somalia                                                     9\n",
            "Nicaragua                                                   8\n",
            "South Africa, Namibia                                       8\n",
            "Liberia                                                     7\n",
            "Guatemala                                                   6\n",
            "Iran                                                        6\n",
            "Federal Republic of Yugoslavia (Serbia and Montenegro)      4\n",
            "New Zealand                                                 4\n",
            "Zaire                                                       4\n",
            "Serbia                                                      3\n",
            "Myanmar                                                     3\n",
            "Cuba                                                        3\n",
            "Serbia and Montenegro                                       3\n",
            "United States                                               3\n",
            "Cambodia                                                    3\n",
            "Uganda                                                      3\n",
            "Argentina                                                   3\n",
            "Argentina, United Kingdom                                   2\n",
            "South Africa and Namibia                                    2\n",
            "Indonesia                                                   2\n",
            "Islamic Republic of Iran                                    2\n",
            "Russian Federation                                          1\n",
            "Palestine                                                   1\n",
            "Burundi                                                     1\n",
            "Democratic People's Republic of Korea                       1\n",
            "Estonia and Latvia                                          1\n",
            "Angola                                                      1\n",
            "Zimbabwe                                                    1\n",
            "Bangladesh                                                  1\n",
            "Colombia                                                    1\n",
            "Iran, Iraq                                                  1\n",
            "Sierra Leone                                                1\n",
            "Equatorial Guinea                                           1\n",
            "Central African Republic                                    1\n",
            "Turkey                                                      1\n",
            "Namibia, South Africa                                       1\n",
            "Mozambique                                                  1\n",
            "Name: count, dtype: int64\n"
          ]
        }
      ]
    },
    {
      "cell_type": "code",
      "source": [
        "# Vertically append the DataFrames for the dataframes with only unique resolution numbers\n",
        "df_unique = pd.concat([df1_unique, df2_unique], axis=0, ignore_index=True)"
      ],
      "metadata": {
        "id": "eSRQBbgd9v2G"
      },
      "execution_count": null,
      "outputs": []
    },
    {
      "cell_type": "code",
      "source": [
        "#Doing the same thing for df_unique, which is more relevant for my purposes here\n",
        "df_unique['country'] = df_unique['country'].fillna('None')\n",
        "df['Country Concerned'] = df['Country Concerned'].fillna('None')\n",
        "\n",
        "#Getting rid of extraneous spaces before and after name\n",
        "df_unique['country'] = df_unique['country'].str.strip()\n",
        "print(df_unique.shape)\n",
        "\n",
        "#Getting rid of all observations with commas\n",
        "df_unique = df_unique[~df_unique['country'].str.contains(\",\")]\n",
        "print(df_unique.shape)"
      ],
      "metadata": {
        "colab": {
          "base_uri": "https://localhost:8080/"
        },
        "id": "XKiLOZPXO1ic",
        "outputId": "4b6ce1a2-efe6-48f4-d3a0-636743507a50"
      },
      "execution_count": null,
      "outputs": [
        {
          "output_type": "stream",
          "name": "stdout",
          "text": [
            "(12278, 329)\n",
            "(12245, 329)\n"
          ]
        },
        {
          "output_type": "stream",
          "name": "stderr",
          "text": [
            "<ipython-input-95-6eaa4341e0f8>:3: SettingWithCopyWarning: \n",
            "A value is trying to be set on a copy of a slice from a DataFrame.\n",
            "Try using .loc[row_indexer,col_indexer] = value instead\n",
            "\n",
            "See the caveats in the documentation: https://pandas.pydata.org/pandas-docs/stable/user_guide/indexing.html#returning-a-view-versus-a-copy\n",
            "  df['Country Concerned'] = df['Country Concerned'].fillna('None')\n"
          ]
        }
      ]
    },
    {
      "cell_type": "code",
      "source": [
        "unequal_rows['order'].value_counts()"
      ],
      "metadata": {
        "colab": {
          "base_uri": "https://localhost:8080/",
          "height": 272
        },
        "id": "9apLOqyIW9R4",
        "outputId": "30aa151a-2cb1-4dc1-9cde-3d0fe6ae7fc3"
      },
      "execution_count": null,
      "outputs": [
        {
          "output_type": "execute_result",
          "data": {
            "text/plain": [
              "order\n",
              "1.0    32\n",
              "2.0    32\n",
              "3.0    16\n",
              "4.0     5\n",
              "5.0     3\n",
              "Name: count, dtype: int64"
            ],
            "text/html": [
              "<div>\n",
              "<style scoped>\n",
              "    .dataframe tbody tr th:only-of-type {\n",
              "        vertical-align: middle;\n",
              "    }\n",
              "\n",
              "    .dataframe tbody tr th {\n",
              "        vertical-align: top;\n",
              "    }\n",
              "\n",
              "    .dataframe thead th {\n",
              "        text-align: right;\n",
              "    }\n",
              "</style>\n",
              "<table border=\"1\" class=\"dataframe\">\n",
              "  <thead>\n",
              "    <tr style=\"text-align: right;\">\n",
              "      <th></th>\n",
              "      <th>count</th>\n",
              "    </tr>\n",
              "    <tr>\n",
              "      <th>order</th>\n",
              "      <th></th>\n",
              "    </tr>\n",
              "  </thead>\n",
              "  <tbody>\n",
              "    <tr>\n",
              "      <th>1.0</th>\n",
              "      <td>32</td>\n",
              "    </tr>\n",
              "    <tr>\n",
              "      <th>2.0</th>\n",
              "      <td>32</td>\n",
              "    </tr>\n",
              "    <tr>\n",
              "      <th>3.0</th>\n",
              "      <td>16</td>\n",
              "    </tr>\n",
              "    <tr>\n",
              "      <th>4.0</th>\n",
              "      <td>5</td>\n",
              "    </tr>\n",
              "    <tr>\n",
              "      <th>5.0</th>\n",
              "      <td>3</td>\n",
              "    </tr>\n",
              "  </tbody>\n",
              "</table>\n",
              "</div><br><label><b>dtype:</b> int64</label>"
            ]
          },
          "metadata": {},
          "execution_count": 98
        }
      ]
    },
    {
      "cell_type": "code",
      "source": [
        "df.shape"
      ],
      "metadata": {
        "colab": {
          "base_uri": "https://localhost:8080/"
        },
        "id": "zMnz8KVeae5U",
        "outputId": "f746c7ea-1c6a-414a-c5e3-2efcd521a567"
      },
      "execution_count": null,
      "outputs": [
        {
          "output_type": "execute_result",
          "data": {
            "text/plain": [
              "(14116, 336)"
            ]
          },
          "metadata": {},
          "execution_count": 102
        }
      ]
    },
    {
      "cell_type": "code",
      "source": [
        "#Doing the same for df_unique\n",
        "df_unique['country'] = df_unique['country'].replace(\"Russian Federation\", \"Russia\")\n",
        "df_unique['country'] = df_unique['country'].replace(\"Islamic Republic of Iran\", \"Iran\")\n",
        "df_unique['country'] = df_unique['country'].replace(\"Republic of Korea\", \"South Korea\")\n",
        "df_unique['country'] = df_unique['country'].replace(\"Democratic People's Republic of Korea\", \"North Korea\")\n",
        "df_unique['country'] = df_unique['country'].replace(\"Republic of Moldova\", \"Moldova\")\n",
        "df_unique['country'] = df_unique['country'].replace(\"United States of America\", \"United States\")\n",
        "df_unique['country'] = df_unique['country'].replace(\"Syrian Arab Republic\", \"Syria\")\n",
        "df_unique['country'] = df_unique['country'].replace(\"United Kingdom of Great Britain and Northern Ireland\", \"United Kingdom\")\n",
        "df_unique['country'] = df_unique['country'].replace(\"Taliban\", \"Afghanistan\")\n",
        "df_unique['country'] = df_unique['country'].replace(\"Democratic People’s Republic of Korea\", \"North Korea\")\n",
        "df_unique['country'] = df_unique['country'].replace(\"Federal Republic of Yugoslavia\", \"Serbia and Montenegro\")\n",
        "df_unique['country'] = df_unique['country'].replace(\"Federal Republic of Yugoslavia (Serbia and Montenegro)\", \"Serbia and Montenegro\")\n"
      ],
      "metadata": {
        "id": "UBnhJW6kPx1j"
      },
      "execution_count": null,
      "outputs": []
    },
    {
      "cell_type": "code",
      "source": [
        "df_unique['country'] = df_unique['country'].replace(\"None\", np.nan)\n",
        "df_unique['year'] = df_unique['year'].fillna(1945 + df['session_reg'])\n",
        "resolution_counts_unique = df_unique.groupby(['country', 'year']).size().reset_index(name='count')"
      ],
      "metadata": {
        "id": "myFy7Jbi_T6N"
      },
      "execution_count": null,
      "outputs": []
    },
    {
      "cell_type": "code",
      "source": [
        "#Saving the files to Google Drive\n",
        "\n",
        "file_path = '/content/gdrive/MyDrive/UNGA/GPT_resolution_counts.csv'\n",
        "file_path2= '/content/gdrive/MyDrive/UNGA/GPT_unique_resolution_counts.csv'\n",
        "\n",
        "resolution_counts.to_csv(file_path, index=False)\n",
        "resolution_counts_unique.to_csv(file_path2, index=False)"
      ],
      "metadata": {
        "id": "NEJfL6uOlePX"
      },
      "execution_count": null,
      "outputs": []
    }
  ]
}